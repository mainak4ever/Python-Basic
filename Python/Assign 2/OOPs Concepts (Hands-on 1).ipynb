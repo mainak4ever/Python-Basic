{
 "cells": [
  {
   "cell_type": "code",
   "execution_count": 1,
   "id": "b4f6d993",
   "metadata": {},
   "outputs": [
    {
     "name": "stdout",
     "output_type": "stream",
     "text": [
      "Factorial is  6\n"
     ]
    }
   ],
   "source": [
    "#1 factorial\n",
    "\n",
    "def factor(num):\n",
    "    fact=1\n",
    "    while num!=0:\n",
    "        fact=fact*num\n",
    "        num=num-1\n",
    "    return fact\n",
    "\n",
    "print(\"Factorial is \",factor(3))"
   ]
  },
  {
   "cell_type": "code",
   "execution_count": 4,
   "id": "aeccd998",
   "metadata": {},
   "outputs": [
    {
     "name": "stdout",
     "output_type": "stream",
     "text": [
      "The string is containing the letter s \n"
     ]
    }
   ],
   "source": [
    "#2 check string for s\n",
    "\n",
    "def check_string(s):\n",
    "    for i in s:\n",
    "        if i == \"s\":\n",
    "            print(\"The string is containing the letter s \")\n",
    "            return\n",
    "    print(\"The string doesn’t contain the letter s\")\n",
    "    \n",
    "check_string(\"The string is containing\")"
   ]
  },
  {
   "cell_type": "code",
   "execution_count": 14,
   "id": "282f9b88",
   "metadata": {},
   "outputs": [
    {
     "name": "stdout",
     "output_type": "stream",
     "text": [
      "Enter student name Rik\n",
      "Enter student marks 95\n",
      "Student Name =  Rik\n",
      "Student Marks =  95\n"
     ]
    }
   ],
   "source": [
    "#3 class student\n",
    "\n",
    "class student:\n",
    "    def fun1(self):\n",
    "        self.s_name=input(\"Enter student name \")\n",
    "        self.s_marks=input(\"Enter student marks \")\n",
    "        \n",
    "    def message(self):\n",
    "        print(\"Student Name = \",self.s_name)\n",
    "        print(\"Student Marks = \",self.s_marks)\n",
    "        \n",
    "ob1=student()\n",
    "ob1.fun1()\n",
    "ob1.message()\n",
    "\n",
    "'''class student:\n",
    "    def fun1(self):\n",
    "        self.s_name=input(\"Enter student name \")\n",
    "        self.s_marks=input(\"Enter student marks \")\n",
    "        return(self.s_name,self.s_marks)\n",
    "        \n",
    "    def message(self):\n",
    "        t=student.fun1(self)\n",
    "        print(\"Student Name = \",t[0])\n",
    "        print(\"Student Marks = \",t[1])\n",
    "        \n",
    "ob1=student()\n",
    "ob1.message()'''\n"
   ]
  },
  {
   "cell_type": "code",
   "execution_count": 15,
   "id": "b27d7e89",
   "metadata": {},
   "outputs": [
    {
     "name": "stdout",
     "output_type": "stream",
     "text": [
      "Double is  10\n"
     ]
    }
   ],
   "source": [
    "#4 lamda function\n",
    "\n",
    "double_num = lambda a: a*2\n",
    "\n",
    "print(\"Double is \",double_num(5))"
   ]
  },
  {
   "cell_type": "code",
   "execution_count": 18,
   "id": "38d38653",
   "metadata": {},
   "outputs": [
    {
     "name": "stdout",
     "output_type": "stream",
     "text": [
      "Malayalam  is Palindrome\n"
     ]
    }
   ],
   "source": [
    "#5 Palindrome Function\n",
    "\n",
    "def palindrome_check(s):\n",
    "    x=s[::-1]\n",
    "    if x.upper()==s.upper():\n",
    "        print(s,\" is Palindrome\")\n",
    "    else:\n",
    "        print(s,\" is not Palindrome\")\n",
    "        \n",
    "palindrome_check(\"Malayalam\")"
   ]
  },
  {
   "cell_type": "code",
   "execution_count": 19,
   "id": "1bc59156",
   "metadata": {},
   "outputs": [
    {
     "name": "stdout",
     "output_type": "stream",
     "text": [
      "This is function 1 in the Modified class.\n"
     ]
    }
   ],
   "source": [
    "#6,7 Super, modified super class\n",
    "\n",
    "class Super:\n",
    "     def fun1(self):\n",
    "        print(\"This is function 1 in the Super class.\")\n",
    "        \n",
    "class Modified_Super(Super):\n",
    "    def fun1(self):\n",
    "        print(\"This is function 1 in the Modified class.\")\n",
    "    def fun2(self):\n",
    "        print(\"This is function 2 in the Modified class.\")\n",
    "    \n",
    "obj1=Modified_Super()\n",
    "obj1.fun1()"
   ]
  },
  {
   "cell_type": "code",
   "execution_count": 24,
   "id": "52167fa0",
   "metadata": {},
   "outputs": [
    {
     "name": "stdout",
     "output_type": "stream",
     "text": [
      "This function has 2 arguments\n"
     ]
    },
    {
     "ename": "TypeError",
     "evalue": "Hello() missing 1 required positional argument: 'b'",
     "output_type": "error",
     "traceback": [
      "\u001b[1;31m---------------------------------------------------------------------------\u001b[0m",
      "\u001b[1;31mTypeError\u001b[0m                                 Traceback (most recent call last)",
      "Input \u001b[1;32mIn [24]\u001b[0m, in \u001b[0;36m<cell line: 9>\u001b[1;34m()\u001b[0m\n\u001b[0;32m      6\u001b[0m     \u001b[38;5;28mprint\u001b[39m(\u001b[38;5;124m\"\u001b[39m\u001b[38;5;124mThis function has 2 arguments\u001b[39m\u001b[38;5;124m\"\u001b[39m)\n\u001b[0;32m      8\u001b[0m Hello(\u001b[38;5;241m2\u001b[39m,\u001b[38;5;241m3\u001b[39m)\n\u001b[1;32m----> 9\u001b[0m \u001b[43mHello\u001b[49m\u001b[43m(\u001b[49m\u001b[38;5;241;43m2\u001b[39;49m\u001b[43m)\u001b[49m\n",
      "\u001b[1;31mTypeError\u001b[0m: Hello() missing 1 required positional argument: 'b'"
     ]
    }
   ],
   "source": [
    "#8 Hello fun....overloading\n",
    "\n",
    "def Hello(a):\n",
    "    print(\"This function only has 1 argument\")\n",
    "def Hello(a,b):\n",
    "    print(\"This function has 2 arguments\")\n",
    "\n",
    "Hello(2,3)\n",
    "Hello(2)"
   ]
  },
  {
   "cell_type": "code",
   "execution_count": 26,
   "id": "a0b77734",
   "metadata": {},
   "outputs": [
    {
     "name": "stdout",
     "output_type": "stream",
     "text": [
      "Enter the Number of Elements 5\n",
      "Enter the Number of Elements \n",
      "1\n",
      "2\n",
      "3\n",
      "4\n",
      "5\n"
     ]
    },
    {
     "data": {
      "text/plain": [
       "15"
      ]
     },
     "execution_count": 26,
     "metadata": {},
     "output_type": "execute_result"
    }
   ],
   "source": [
    "#9 Sum function\n",
    "\n",
    "def Sum():\n",
    "    sum1=0\n",
    "    n=int(input(\"Enter the Number of Elements \"))\n",
    "    print(\"Enter the Number of Elements \")\n",
    "    for i in range(n):\n",
    "        num=int(input())\n",
    "        sum1+=num\n",
    "    return(sum1)   \n",
    "\n",
    "Sum()\n"
   ]
  },
  {
   "cell_type": "code",
   "execution_count": 4,
   "id": "dd7b165e",
   "metadata": {},
   "outputs": [
    {
     "name": "stdout",
     "output_type": "stream",
     "text": [
      "originalValue =  10\n",
      "originalValue =  20\n"
     ]
    }
   ],
   "source": [
    "#10 Encapsulation\n",
    "\n",
    "class Encapsulation:\n",
    "    \n",
    "    def __init__(self):\n",
    "        self.originalValue=10\n",
    "        \n",
    "    def Value(self): \n",
    "        return(self.originalValue)\n",
    "    \n",
    "    def setValue(self,newValue): \n",
    "        self.originalValue=newValue \n",
    "\n",
    "obj=Encapsulation()\n",
    "print(\"originalValue = \",obj.Value())\n",
    "obj.setValue(20)\n",
    "print(\"originalValue = \",obj.Value())"
   ]
  },
  {
   "cell_type": "markdown",
   "id": "d0907f67",
   "metadata": {},
   "source": []
  }
 ],
 "metadata": {
  "kernelspec": {
   "display_name": "Python 3 (ipykernel)",
   "language": "python",
   "name": "python3"
  },
  "language_info": {
   "codemirror_mode": {
    "name": "ipython",
    "version": 3
   },
   "file_extension": ".py",
   "mimetype": "text/x-python",
   "name": "python",
   "nbconvert_exporter": "python",
   "pygments_lexer": "ipython3",
   "version": "3.9.12"
  }
 },
 "nbformat": 4,
 "nbformat_minor": 5
}
