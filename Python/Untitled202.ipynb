{
 "cells": [
  {
   "cell_type": "code",
   "execution_count": 1,
   "id": "ec8258b7",
   "metadata": {},
   "outputs": [],
   "source": [
    "#OOP'S---object oriented programming language\n",
    "#class---it is a blueprint of obj\n",
    "#object---it is any real world entity"
   ]
  },
  {
   "cell_type": "code",
   "execution_count": 3,
   "id": "1914d02d",
   "metadata": {},
   "outputs": [],
   "source": [
    "#class\n",
    "#class Abc:\n",
    "#obj\n",
    "#obj=Abc()"
   ]
  },
  {
   "cell_type": "code",
   "execution_count": null,
   "id": "b1c70256",
   "metadata": {},
   "outputs": [],
   "source": [
    "#self----is used to point to the current obj that is declared in the class\n",
    "#__init__----aconstractuor will be automatically called once the obj is created for the class\n",
    "#def----it is not automatically"
   ]
  },
  {
   "cell_type": "code",
   "execution_count": 13,
   "id": "ec68d03a",
   "metadata": {},
   "outputs": [],
   "source": [
    "class Car:\n",
    "    def __init__(self,modelname,year):\n",
    "        self.modelname=modelname\n",
    "        self.year=year\n",
    "        print(self.modelname)\n",
    "        print(self.year)\n",
    "        \n",
    "        \n",
    "        \n",
    "   "
   ]
  },
  {
   "cell_type": "code",
   "execution_count": 14,
   "id": "12a08972",
   "metadata": {},
   "outputs": [
    {
     "name": "stdout",
     "output_type": "stream",
     "text": [
      "toyota\n",
      "2017\n"
     ]
    }
   ],
   "source": [
    "obj=Car(\"toyota\",2017)"
   ]
  },
  {
   "cell_type": "code",
   "execution_count": 8,
   "id": "95cd2a2a",
   "metadata": {},
   "outputs": [],
   "source": [
    "class Car:\n",
    "    def fun1(self,modelname,year):\n",
    "        self.modelname=modelname\n",
    "        self.year=year\n",
    "        print(self.modelname)\n",
    "        print(self.year)\n",
    "        "
   ]
  },
  {
   "cell_type": "code",
   "execution_count": 10,
   "id": "969612c9",
   "metadata": {},
   "outputs": [
    {
     "name": "stdout",
     "output_type": "stream",
     "text": [
      "toyota\n",
      "2017\n"
     ]
    }
   ],
   "source": [
    "obj=Car()\n",
    "obj.fun1(\"toyota\",2017)"
   ]
  },
  {
   "cell_type": "code",
   "execution_count": null,
   "id": "19fdd174",
   "metadata": {},
   "outputs": [],
   "source": [
    "#four main concept of OOP'S\n",
    "#inheritance\n",
    "#encapsulation\n",
    "#polymorphism\n",
    "#abstraction"
   ]
  },
  {
   "cell_type": "code",
   "execution_count": null,
   "id": "190cb554",
   "metadata": {},
   "outputs": [],
   "source": [
    "#inheritance---\n",
    "#single\n",
    "#multiple\n",
    "#multilevel\n",
    "#hierarchical"
   ]
  },
  {
   "cell_type": "code",
   "execution_count": 16,
   "id": "b253e2df",
   "metadata": {},
   "outputs": [],
   "source": [
    "#single-----1C------1P\n",
    "class Animal:#parent\n",
    "    def speak(self):\n",
    "        print(\"Animals cannot speak\")\n",
    "class Dog(Animal):#child\n",
    "    def bark(self):\n",
    "        print(\"Dog can bark\")"
   ]
  },
  {
   "cell_type": "code",
   "execution_count": 19,
   "id": "f1aecb49",
   "metadata": {},
   "outputs": [
    {
     "name": "stdout",
     "output_type": "stream",
     "text": [
      "Dog can bark\n",
      "Animals cannot speak\n"
     ]
    }
   ],
   "source": [
    "obj=Dog()\n",
    "obj.bark()\n",
    "obj.speak()"
   ]
  },
  {
   "cell_type": "code",
   "execution_count": 20,
   "id": "8f7343e9",
   "metadata": {},
   "outputs": [],
   "source": [
    "#multiple--------------MP----1C(fromwhich all the parent class inherited)\n",
    "class  Abc:\n",
    "    def fun1(self):\n",
    "        print(\"This is fun1\")\n",
    "class  Abc1:\n",
    "    def fun2(self):\n",
    "        print(\"This is fun2\")\n",
    "class  Abc2(Abc,Abc1):\n",
    "    def fun3(self):\n",
    "        print(\"This is fun3\")        "
   ]
  },
  {
   "cell_type": "code",
   "execution_count": 21,
   "id": "6af42020",
   "metadata": {},
   "outputs": [],
   "source": [
    "obj=Abc2()"
   ]
  },
  {
   "cell_type": "code",
   "execution_count": 22,
   "id": "88bea952",
   "metadata": {},
   "outputs": [
    {
     "name": "stdout",
     "output_type": "stream",
     "text": [
      "This is fun1\n",
      "This is fun2\n",
      "This is fun3\n"
     ]
    }
   ],
   "source": [
    "obj.fun1()\n",
    "obj.fun2()\n",
    "obj.fun3()"
   ]
  },
  {
   "cell_type": "code",
   "execution_count": 23,
   "id": "bf3d2e71",
   "metadata": {},
   "outputs": [],
   "source": [
    "#multilevel-----\n",
    "class  Abc:\n",
    "    def fun1(self):\n",
    "        print(\"This is fun1\")\n",
    "class  Abc1(Abc):\n",
    "    def fun2(self):\n",
    "        print(\"This is fun2\")\n",
    "class  Abc2(Abc1):#child\n",
    "    def fun3(self):\n",
    "        print(\"This is fun3\")        "
   ]
  },
  {
   "cell_type": "code",
   "execution_count": 24,
   "id": "4e2b7faf",
   "metadata": {},
   "outputs": [],
   "source": [
    "obj=Abc2()"
   ]
  },
  {
   "cell_type": "code",
   "execution_count": 25,
   "id": "624909da",
   "metadata": {},
   "outputs": [
    {
     "name": "stdout",
     "output_type": "stream",
     "text": [
      "This is fun1\n",
      "This is fun2\n",
      "This is fun3\n"
     ]
    }
   ],
   "source": [
    "obj.fun1()\n",
    "obj.fun2()\n",
    "obj.fun3()"
   ]
  },
  {
   "cell_type": "code",
   "execution_count": 35,
   "id": "d3faa1cc",
   "metadata": {},
   "outputs": [],
   "source": [
    "#hierarchical----1P-----MC(same parent or same root)\n",
    "class  Abc:#parent\n",
    "    def fun1(self):\n",
    "        print(\"This is fun1\")\n",
    "class  Abc1(Abc):\n",
    "    def fun2(self):\n",
    "        print(\"This is fun2\")\n",
    "class  Abc2(Abc):\n",
    "    def fun3(self):\n",
    "        print(\"This is fun3\")   "
   ]
  },
  {
   "cell_type": "code",
   "execution_count": 36,
   "id": "ef9e5427",
   "metadata": {},
   "outputs": [
    {
     "name": "stdout",
     "output_type": "stream",
     "text": [
      "This is fun1\n",
      "This is fun3\n",
      "This is fun2\n"
     ]
    }
   ],
   "source": [
    "obj=Abc2()\n",
    "obj.fun1()\n",
    "obj.fun3()\n",
    "obj1=Abc1()\n",
    "obj1.fun2()"
   ]
  },
  {
   "cell_type": "code",
   "execution_count": 39,
   "id": "0e473219",
   "metadata": {},
   "outputs": [
    {
     "ename": "TypeError",
     "evalue": "fun2() takes 0 positional arguments but 1 was given",
     "output_type": "error",
     "traceback": [
      "\u001b[1;31m---------------------------------------------------------------------------\u001b[0m",
      "\u001b[1;31mTypeError\u001b[0m                                 Traceback (most recent call last)",
      "\u001b[1;32m~\\AppData\\Local\\Temp/ipykernel_6032/75484216.py\u001b[0m in \u001b[0;36m<module>\u001b[1;34m\u001b[0m\n\u001b[0;32m     13\u001b[0m \u001b[1;33m\u001b[0m\u001b[0m\n\u001b[0;32m     14\u001b[0m \u001b[0mobj1\u001b[0m \u001b[1;33m=\u001b[0m \u001b[0mabc1\u001b[0m\u001b[1;33m(\u001b[0m\u001b[1;33m)\u001b[0m\u001b[1;33m\u001b[0m\u001b[1;33m\u001b[0m\u001b[0m\n\u001b[1;32m---> 15\u001b[1;33m \u001b[0mobj1\u001b[0m\u001b[1;33m.\u001b[0m\u001b[0mfun2\u001b[0m\u001b[1;33m(\u001b[0m\u001b[1;33m)\u001b[0m\u001b[1;33m\u001b[0m\u001b[1;33m\u001b[0m\u001b[0m\n\u001b[0m",
      "\u001b[1;31mTypeError\u001b[0m: fun2() takes 0 positional arguments but 1 was given"
     ]
    }
   ],
   "source": [
    "class abc:\n",
    "    def fun1():\n",
    "        print(\"print fun1\")\n",
    "\n",
    "class abc1(abc):\n",
    "    def fun2():\n",
    "        print(\"print fun2\")\n",
    "        \n",
    "\n",
    "class abc2(abc):\n",
    "    def fun3():\n",
    "        print(\"print fun3\")\n",
    "        \n",
    "obj1 = abc1()\n",
    "obj1.fun2()\n"
   ]
  },
  {
   "cell_type": "code",
   "execution_count": 64,
   "id": "404e6bd5",
   "metadata": {},
   "outputs": [],
   "source": [
    "#encapsulation-----security\n",
    "#public------self.variable\n",
    "#private----self.__v\n",
    "#protected---self._v\n",
    "\n",
    "class Base:\n",
    "    \n",
    "    def __init__(self):\n",
    "        self._a=10\n",
    "        self.__b=\"Hello world\"\n",
    "    def abc(self):\n",
    "        print(\"hii\")\n",
    "class Derived(Base):\n",
    "    def __init__(self):\n",
    "        Base.__init__(self)#inheriting the base class inside the derived class\n",
    "        print(self._a)#self._classname__private variable\n",
    "       "
   ]
  },
  {
   "cell_type": "code",
   "execution_count": 65,
   "id": "09fd90b1",
   "metadata": {},
   "outputs": [
    {
     "name": "stdout",
     "output_type": "stream",
     "text": [
      "10\n",
      "hii\n"
     ]
    }
   ],
   "source": [
    "obj=Derived()\n",
    "obj.abc()"
   ]
  },
  {
   "cell_type": "code",
   "execution_count": null,
   "id": "53961e39",
   "metadata": {},
   "outputs": [],
   "source": [
    "#polymorphism------(many+forms)\n",
    "#1.overriding----same function name,same arguments\n",
    "#2.overloading---not supported------same function name,different arguments"
   ]
  },
  {
   "cell_type": "code",
   "execution_count": 66,
   "id": "7b957c6f",
   "metadata": {},
   "outputs": [],
   "source": [
    "#\n",
    "class Bird:\n",
    "    def fly(self):\n",
    "        print(\"Birds can fly\")\n",
    "        \n",
    "    def color(self):\n",
    "        print(\"Birds are colourfull\")\n",
    "class Sparrow(Bird):\n",
    "    def fly(self):\n",
    "        print(\"Sparrow can fly\")"
   ]
  },
  {
   "cell_type": "code",
   "execution_count": 68,
   "id": "89981efa",
   "metadata": {},
   "outputs": [
    {
     "name": "stdout",
     "output_type": "stream",
     "text": [
      "Sparrow can fly\n",
      "Birds are colourfull\n"
     ]
    }
   ],
   "source": [
    "obj=Sparrow()\n",
    "obj.fly()\n",
    "obj.color()"
   ]
  },
  {
   "cell_type": "code",
   "execution_count": 69,
   "id": "68b67a6a",
   "metadata": {},
   "outputs": [],
   "source": [
    "#overloading\n",
    "def hello(a):\n",
    "    print(\"1 argument is present\")\n",
    "def hello(a,b):\n",
    "    print(\"2 argument\")"
   ]
  },
  {
   "cell_type": "code",
   "execution_count": 71,
   "id": "a33bb4c8",
   "metadata": {},
   "outputs": [
    {
     "name": "stdout",
     "output_type": "stream",
     "text": [
      "2 argument\n"
     ]
    }
   ],
   "source": [
    "hello(2,6)"
   ]
  },
  {
   "cell_type": "code",
   "execution_count": null,
   "id": "9992abb7",
   "metadata": {},
   "outputs": [],
   "source": [
    "#abstraction-----it is used for hiding the internal functionality from the user"
   ]
  }
 ],
 "metadata": {
  "kernelspec": {
   "display_name": "Python 3 (ipykernel)",
   "language": "python",
   "name": "python3"
  },
  "language_info": {
   "codemirror_mode": {
    "name": "ipython",
    "version": 3
   },
   "file_extension": ".py",
   "mimetype": "text/x-python",
   "name": "python",
   "nbconvert_exporter": "python",
   "pygments_lexer": "ipython3",
   "version": "3.9.7"
  }
 },
 "nbformat": 4,
 "nbformat_minor": 5
}
