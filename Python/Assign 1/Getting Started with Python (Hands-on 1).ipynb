{
 "cells": [
  {
   "cell_type": "code",
   "execution_count": 1,
   "id": "3cc83302",
   "metadata": {},
   "outputs": [],
   "source": [
    "from Module import addition"
   ]
  },
  {
   "cell_type": "code",
   "execution_count": 2,
   "id": "a92fe668",
   "metadata": {},
   "outputs": [
    {
     "data": {
      "text/plain": [
       "6"
      ]
     },
     "execution_count": 2,
     "metadata": {},
     "output_type": "execute_result"
    }
   ],
   "source": [
    "addition(2,4)"
   ]
  },
  {
   "cell_type": "code",
   "execution_count": 3,
   "id": "0563593b",
   "metadata": {},
   "outputs": [],
   "source": [
    "from Module import substraction"
   ]
  },
  {
   "cell_type": "code",
   "execution_count": 4,
   "id": "420e5052",
   "metadata": {},
   "outputs": [
    {
     "data": {
      "text/plain": [
       "4"
      ]
     },
     "execution_count": 4,
     "metadata": {},
     "output_type": "execute_result"
    }
   ],
   "source": [
    "substraction(6,2)"
   ]
  },
  {
   "cell_type": "code",
   "execution_count": 1,
   "id": "2d1746b3",
   "metadata": {},
   "outputs": [],
   "source": [
    "from Module import multiplication\n"
   ]
  },
  {
   "cell_type": "code",
   "execution_count": 2,
   "id": "a80171fc",
   "metadata": {},
   "outputs": [
    {
     "data": {
      "text/plain": [
       "12"
      ]
     },
     "execution_count": 2,
     "metadata": {},
     "output_type": "execute_result"
    }
   ],
   "source": [
    "multiplication(6,2)\n"
   ]
  },
  {
   "cell_type": "code",
   "execution_count": 3,
   "id": "ce5c3e91",
   "metadata": {},
   "outputs": [],
   "source": [
    "from Module import division\n"
   ]
  },
  {
   "cell_type": "code",
   "execution_count": 4,
   "id": "de035337",
   "metadata": {},
   "outputs": [
    {
     "data": {
      "text/plain": [
       "3.0"
      ]
     },
     "execution_count": 4,
     "metadata": {},
     "output_type": "execute_result"
    }
   ],
   "source": [
    "division(6,2)"
   ]
  },
  {
   "cell_type": "code",
   "execution_count": 3,
   "id": "c8a08b91",
   "metadata": {},
   "outputs": [
    {
     "name": "stdout",
     "output_type": "stream",
     "text": [
      "Enter a Number 2\n",
      "Enter Another Number 4\n",
      "4  is greater\n"
     ]
    }
   ],
   "source": [
    "#6 Greater\n",
    "\n",
    "Num1=int(input(\"Enter a Number \"))\n",
    "Num2=int(input(\"Enter Another Number \"))\n",
    "if Num1>Num2:\n",
    "    print(Num1, \" is greater\")\n",
    "else:\n",
    "    print(Num2, \" is greater\")"
   ]
  },
  {
   "cell_type": "code",
   "execution_count": 10,
   "id": "222e9c5e",
   "metadata": {},
   "outputs": [
    {
     "name": "stdout",
     "output_type": "stream",
     "text": [
      "Enter a Number 23\n",
      "23  is prime number\n"
     ]
    }
   ],
   "source": [
    "#6 Prime check\n",
    "\n",
    "Num=int(input(\"Enter a Number \"))\n",
    "c=0\n",
    "for i in range(2,Num//2):\n",
    "    if Num%i==0:\n",
    "        c=1\n",
    "        break\n",
    "if c==1:\n",
    "    print(Num,\" is not prime number \")\n",
    "else:\n",
    "    print(Num,\" is prime number\")    \n"
   ]
  },
  {
   "cell_type": "code",
   "execution_count": 17,
   "id": "69bb6718",
   "metadata": {},
   "outputs": [
    {
     "name": "stdout",
     "output_type": "stream",
     "text": [
      "Enter a Number 371\n",
      "371  is a armstrong Number \n"
     ]
    }
   ],
   "source": [
    "#6 Armstrong Number Check\n",
    "\n",
    "Num=int(input(\"Enter a Number \"))\n",
    "arm=0\n",
    "temp=Num\n",
    "while temp!=0:\n",
    "    r=temp%10\n",
    "    arm=arm+r**3\n",
    "    temp=temp//10\n",
    "if(arm==Num):\n",
    "    print(Num,\" is a armstrong Number \")\n",
    "else:\n",
    "    print(Num,\" is  not a armstrong Number \")"
   ]
  },
  {
   "cell_type": "code",
   "execution_count": 3,
   "id": "fa08db8a",
   "metadata": {},
   "outputs": [
    {
     "name": "stdout",
     "output_type": "stream",
     "text": [
      "Enter a Number 4\n",
      "Enter Another Number 2\n",
      "Give \n",
      "a for Addition \n",
      "s for substraction \n",
      "m for Multiplication \n",
      "d for floor division \n",
      "a\n",
      "Addition is  6\n"
     ]
    }
   ],
   "source": [
    "#7 calculator\n",
    "\n",
    "Num1=int(input(\"Enter a Number \"))\n",
    "Num2=int(input(\"Enter Another Number \"))\n",
    "key=input(\"Give \\n\"\"a\"\" for Addition \\n\"\"s\"\" for substraction \\n\"\"m\"\" for Multiplication \\n\"\"d\"\" for floor division \\n\")\n",
    "if key==\"a\":\n",
    "    print(\"Addition is \",Num1+Num2)\n",
    "elif key==\"s\":\n",
    "    print(\"Substraction is \",Num1-Num2)\n",
    "elif key==\"m\":\n",
    "    print(\"Multiplication is \",Num1*Num2)\n",
    "elif key==\"d\":\n",
    "    print(\"Floor Division is \",Num1//Num2)\n",
    "else:\n",
    "    print(\"Invalid Input\")"
   ]
  },
  {
   "cell_type": "code",
   "execution_count": 8,
   "id": "c3d8dce4",
   "metadata": {},
   "outputs": [
    {
     "name": "stdout",
     "output_type": "stream",
     "text": [
      "Enter the range 15\n",
      "0, 1, 1, 2, 3, 5, 8, 13, 21, 34, 55, 89, 144, 233, 377, "
     ]
    }
   ],
   "source": [
    "#8 Fibonacci\n",
    "\n",
    "def fib(num):\n",
    "    if num ==0:\n",
    "        return 0\n",
    "    elif num==1:\n",
    "        return 1\n",
    "    else:\n",
    "        return(fib(num-2)+fib(num-1))\n",
    "\n",
    "num=int(input(\"Enter the range \"))\n",
    "for i in range(0,num):\n",
    "    print(fib(i),end=\", \")\n",
    "\n"
   ]
  },
  {
   "cell_type": "code",
   "execution_count": 12,
   "id": "8c11def8",
   "metadata": {},
   "outputs": [
    {
     "name": "stdout",
     "output_type": "stream",
     "text": [
      "{'dict1': {'key1': [[1, 2, 3], [4, 5, 6]]}, 'dict2': {'key2': [['a', 'b', 'c'], [1, 5, 6]]}}\n"
     ]
    }
   ],
   "source": [
    "#9 Nested dict , Nested list\n",
    "\n",
    "nested_dict={'dict1':{\"key1\":[[1,2,3],[4,5,6]]},\n",
    "             'dict2':{\"key2\":[[\"a\",\"b\",\"c\"],[1,5,6]]}}\n",
    "print(nested_dict)"
   ]
  },
  {
   "cell_type": "code",
   "execution_count": 13,
   "id": "cb8348bb",
   "metadata": {},
   "outputs": [
    {
     "name": "stdout",
     "output_type": "stream",
     "text": [
      "Union  {1, 2, 3, 4, 5, 6, 7, 8, 9}\n",
      "Intersection {4, 5, 6}\n"
     ]
    }
   ],
   "source": [
    "#10 Sets\n",
    "\n",
    "s1={1,2,3,4,5,6}\n",
    "s2={4,5,6,7,8,9}\n",
    "\n",
    "# Union\n",
    "u=s1.union(s2) \n",
    "\n",
    "# Intersection\n",
    "x=s1.intersection(s2)\n",
    "\n",
    "print(\"Union \",u)\n",
    "print(\"Intersection\",x)"
   ]
  },
  {
   "cell_type": "code",
   "execution_count": 36,
   "id": "5d9a1297",
   "metadata": {},
   "outputs": [
    {
     "name": "stdout",
     "output_type": "stream",
     "text": [
      "(('key1', {'value12', 'value11'}), ('key2', {'value21', 'value22'}))\n"
     ]
    }
   ],
   "source": [
    "#11 nested tuple of dict\n",
    "\n",
    "d={\"key1\":{\"value11\",\"value12\"},\"key2\":{\"value21\",\"value22\"}}\n",
    "l=[]\n",
    "for i in d.items():\n",
    "    l.append(i)\n",
    "t=tuple(l)\n",
    "print(t)"
   ]
  },
  {
   "cell_type": "code",
   "execution_count": 30,
   "id": "ffe0f11d",
   "metadata": {},
   "outputs": [
    {
     "name": "stdout",
     "output_type": "stream",
     "text": [
      "Elements are\n",
      " [2, 4, 6, 8, 10, 12, 14, 16, 18, 20, 22, 24, 26, 28, 30, 32, 34, 36, 38, 40, 42, 44, 46, 48, 50, 52, 54, 56, 58, 60, 62, 64, 66, 68, 70, 72, 74, 76, 78, 80, 82, 84, 86, 88, 90, 92, 94, 96, 98, 100]\n",
      "\n",
      "No. of elements  50\n",
      "\n",
      "Reverse\n",
      " [100, 98, 96, 94, 92, 90, 88, 86, 84, 82, 80, 78, 76, 74, 72, 70, 68, 66, 64, 62, 60, 58, 56, 54, 52, 50, 48, 46, 44, 42, 40, 38, 36, 34, 32, 30, 28, 26, 24, 22, 20, 18, 16, 14, 12, 10, 8, 6, 4, 2]\n",
      "\n",
      "Ascending\n",
      " [2, 4, 6, 8, 10, 12, 14, 16, 18, 20, 22, 24, 26, 28, 30, 32, 34, 36, 38, 40, 42, 44, 46, 48, 50, 52, 54, 56, 58, 60, 62, 64, 66, 68, 70, 72, 74, 76, 78, 80, 82, 84, 86, 88, 90, 92, 94, 96, 98, 100]\n",
      "\n",
      "Descendind\n",
      " [100, 98, 96, 94, 92, 90, 88, 86, 84, 82, 80, 78, 76, 74, 72, 70, 68, 66, 64, 62, 60, 58, 56, 54, 52, 50, 48, 46, 44, 42, 40, 38, 36, 34, 32, 30, 28, 26, 24, 22, 20, 18, 16, 14, 12, 10, 8, 6, 4, 2]\n",
      "index is  28\n",
      "\n",
      "List after updating \n",
      " [100, 98, 96, 94, 92, 90, 88, 86, 84, 82, 80, 78, 76, 74, 72, 70, 68, 66, 64, 62, 60, 58, 56, 54, 52, 50, 48, 46, 100, 42, 40, 38, 36, 34, 32, 30, 28, 26, 24, 22, 20, 18, 16, 14, 12, 10, 8, 6, 4, 2]\n",
      "\n",
      "After squaring\n",
      " [10000, 9604, 9216, 8836, 8464, 8100, 7744, 7396, 7056, 6724, 6400, 6084, 5776, 5476, 5184, 4900, 4624, 4356, 4096, 3844, 3600, 3364, 3136, 2916, 2704, 2500, 2304, 2116, 10000, 1764, 1600, 1444, 1296, 1156, 1024, 900, 784, 676, 576, 484, 400, 324, 256, 196, 144, 100, 64, 36, 16, 4]\n"
     ]
    }
   ],
   "source": [
    "#12 List of 50 even natural numbers\n",
    "\n",
    "l=[]\n",
    "i=2\n",
    "while len(l)<50:\n",
    "    l.append(i)\n",
    "    i+=2\n",
    "print(\"Elements are\\n\",l)\n",
    "\n",
    "# No of elements\n",
    "print(\"\\nNo. of elements \",len(l))\n",
    "\n",
    "# Reverse sequence\n",
    "l.reverse()\n",
    "print(\"\\nReverse\\n\",l)\n",
    "# Ascending\n",
    "l.sort()\n",
    "print(\"\\nAscending\\n\",l)\n",
    "# Descending\n",
    "l.sort(reverse=True)\n",
    "print(\"\\nDescendind\\n\",l)\n",
    "\n",
    "#Element 44 update\n",
    "i=(l.index(44))\n",
    "print(\"index is \",i)\n",
    "l[i]=100\n",
    "print(\"\\nList after updating \\n\",l)\n",
    "\n",
    "# Square of each element\n",
    "l1=[]\n",
    "for i in l:\n",
    "    l1.append(i**2)\n",
    "print(\"\\nAfter squaring\\n\",l1)\n"
   ]
  },
  {
   "cell_type": "code",
   "execution_count": 35,
   "id": "cd615d11",
   "metadata": {},
   "outputs": [
    {
     "name": "stdout",
     "output_type": "stream",
     "text": [
      "Key value List  [['key1', {1, 2, 3}], ['key2', {4, 5, 6}], ['key3', {8, 9, 7}], ['key4', {10, 11, 12}]]\n",
      "Key List  ['key1', 'key2', 'key3', 'key4']\n",
      "Dict after update  {'key2': {4, 5, 6}, 'key3': {8, 9, 7}}\n",
      "Dict after update  {'key2': {4, 5, 6}, 'key3': {12, 13, 14}}\n"
     ]
    }
   ],
   "source": [
    "#13 Dictionary \n",
    "\n",
    "dict1={\"key1\":{1,2,3},\n",
    "      \"key2\":{4,5,6},\n",
    "      \"key3\":{7,8,9},\n",
    "      \"key4\":{10,11,12}}\n",
    "\n",
    "#list with key value\n",
    "l=[]\n",
    "l1=[]\n",
    "l2=[]\n",
    "for i in dict1.keys():\n",
    "    temp=[i,dict1[i]]\n",
    "    l.append(temp)\n",
    "print(\"Key value List \",l)\n",
    "\n",
    "'''for i in dict1.items():\n",
    "    l2.append(i)\n",
    "print(l2)'''\n",
    "\n",
    "#list with only key\n",
    "for i in dict1.keys():\n",
    "    l1.append(i)\n",
    "print(\"Key List \",l1) \n",
    "\n",
    "#Remove first and last key value\n",
    "dict1.pop(\"key1\")\n",
    "dict1.pop(\"key4\")\n",
    "print(\"Dict after update \",dict1)\n",
    "\n",
    "#update last key value\n",
    "dict1.update({\"key3\":{12,13,14}})\n",
    "print(\"Dict after update \",dict1)"
   ]
  },
  {
   "cell_type": "code",
   "execution_count": 42,
   "id": "61a2e88a",
   "metadata": {},
   "outputs": [
    {
     "name": "stdout",
     "output_type": "stream",
     "text": [
      "gram\n",
      "World\n",
      "PYTHON PROGRAMMING LANGUAGE\n",
      "BEST IN THE WORLD\n",
      "PYTHON PROGRAMMING LANGUAGEBEST IN THE WORLD\n"
     ]
    }
   ],
   "source": [
    "#14 Sring operations\n",
    "\n",
    "A=\"Python Programming Language\"\n",
    "B=\"Best in the World\"\n",
    "\n",
    "print(A[10:14])\n",
    "print(B[-5:])\n",
    "\n",
    "#uppercase\n",
    "A=A.upper()\n",
    "B=B.upper()\n",
    "\n",
    "print(A)\n",
    "print(B)\n",
    "\n",
    "#concatenation\n",
    "C=A+B\n",
    "print(C)"
   ]
  },
  {
   "cell_type": "code",
   "execution_count": 52,
   "id": "bf7ffb12",
   "metadata": {},
   "outputs": [
    {
     "name": "stdout",
     "output_type": "stream",
     "text": [
      "No. of elements in the list 20\n",
      "List is  [0, 1, 2, 3, 4, 5, 6, 7, 8, 9, 10, 11, 12, 13, 14, 15, 16, 17, 18, 19]\n",
      "\n",
      "Using reverse indexing  5,6,7,8,9,10,11,12,13,14,15,16,17,18,"
     ]
    }
   ],
   "source": [
    "#15 Reverse Indexing\n",
    "\n",
    "l=[]\n",
    "l1=[]\n",
    "n=int(input(\"No. of elements in the list \"))\n",
    "for i in range(n):\n",
    "    l.append(i)\n",
    "print(\"List is \",l)\n",
    "\n",
    "print(\"\\nUsing reverse indexing \",end=\" \")\n",
    "for i in range(5-n,-1,):\n",
    "    print(l[i],end=\",\")"
   ]
  },
  {
   "cell_type": "code",
   "execution_count": 59,
   "id": "fed9637a",
   "metadata": {},
   "outputs": [
    {
     "name": "stdout",
     "output_type": "stream",
     "text": [
      "[5, 10, 15, 20, 25, 30, 35, 40, 45, 50, 55, 60, 65, 70, 75, 80, 85, 90, 95]\n",
      "No. of Elements 19\n"
     ]
    }
   ],
   "source": [
    "# Range \n",
    "\n",
    "c=(100-5)//19\n",
    "l=[]\n",
    "for i in range(5,100,c):\n",
    "    l.append(i)\n",
    "\n",
    "print(l)\n",
    "print(\"No. of Elements\",len(l))"
   ]
  },
  {
   "cell_type": "code",
   "execution_count": null,
   "id": "a2053768",
   "metadata": {},
   "outputs": [],
   "source": []
  }
 ],
 "metadata": {
  "kernelspec": {
   "display_name": "Python 3 (ipykernel)",
   "language": "python",
   "name": "python3"
  },
  "language_info": {
   "codemirror_mode": {
    "name": "ipython",
    "version": 3
   },
   "file_extension": ".py",
   "mimetype": "text/x-python",
   "name": "python",
   "nbconvert_exporter": "python",
   "pygments_lexer": "ipython3",
   "version": "3.9.12"
  }
 },
 "nbformat": 4,
 "nbformat_minor": 5
}
