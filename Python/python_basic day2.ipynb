{
 "cells": [
  {
   "cell_type": "code",
   "execution_count": 1,
   "id": "1d67fd70",
   "metadata": {},
   "outputs": [],
   "source": [
    "#conditionl statements\n",
    "#if-else\n",
    "#if-elif-else\n",
    "#nested if-else\n"
   ]
  },
  {
   "cell_type": "code",
   "execution_count": 2,
   "id": "e8a918b1",
   "metadata": {},
   "outputs": [
    {
     "name": "stdout",
     "output_type": "stream",
     "text": [
      "enter the age7\n",
      "is not eligible for vote\n"
     ]
    }
   ],
   "source": [
    "#if-else\n",
    "age=int(input(\"enter the age\"))\n",
    "if age>=18:\n",
    "    print(\"eligibe for vote\")\n",
    "else:\n",
    "    print(\"is not eligible for vote\")"
   ]
  },
  {
   "cell_type": "code",
   "execution_count": 3,
   "id": "3c621240",
   "metadata": {},
   "outputs": [
    {
     "name": "stdout",
     "output_type": "stream",
     "text": [
      "a is greter\n"
     ]
    }
   ],
   "source": [
    "a=45\n",
    "b=34\n",
    "\n",
    "if a>b:\n",
    "    print(\"a is greter\")\n",
    "else:\n",
    "    print(\" b  id greater\")"
   ]
  },
  {
   "cell_type": "code",
   "execution_count": 4,
   "id": "12e5733b",
   "metadata": {},
   "outputs": [],
   "source": [
    "#if -elif-else\n",
    "#and--a>b and a>c-----T----T----T\n",
    "#or---a>b or a>c----T----F-----T"
   ]
  },
  {
   "cell_type": "code",
   "execution_count": 5,
   "id": "296773f4",
   "metadata": {},
   "outputs": [
    {
     "name": "stdout",
     "output_type": "stream",
     "text": [
      "enter a value6\n",
      "enter a value7\n",
      "enter a value8\n",
      "8\n"
     ]
    }
   ],
   "source": [
    "a=int(input(\"enter a value\"))\n",
    "b=int(input(\"enter a value\"))\n",
    "c=int(input(\"enter a value\"))\n",
    "if a>b and a>c:\n",
    "    print(a)\n",
    "elif b>a and b>c:\n",
    "    print(b)\n",
    "elif c>a and c>b:\n",
    "    print(c)\n",
    "else:\n",
    "    print(\"invalid\")"
   ]
  },
  {
   "cell_type": "code",
   "execution_count": 6,
   "id": "7998c08e",
   "metadata": {},
   "outputs": [
    {
     "name": "stdout",
     "output_type": "stream",
     "text": [
      "enter a value78\n",
      "it is a positive number\n",
      "78\n"
     ]
    }
   ],
   "source": [
    "#nested if-else\n",
    "num=int(input(\"enter a value\"))\n",
    "if num>=0:\n",
    "    print(\"it is a positive number\")\n",
    "    if num==0:\n",
    "        print(\"zero\")\n",
    "    else:\n",
    "        print(num)\n",
    "else:\n",
    "    print(\"the number is negative\")"
   ]
  },
  {
   "cell_type": "code",
   "execution_count": 7,
   "id": "c55239d4",
   "metadata": {},
   "outputs": [],
   "source": [
    "#looping statements---\n",
    "#1.while\n",
    "#2.for"
   ]
  },
  {
   "cell_type": "code",
   "execution_count": 3,
   "id": "45d395fe",
   "metadata": {},
   "outputs": [
    {
     "name": "stdout",
     "output_type": "stream",
     "text": [
      "hello 1\n",
      "hello 4\n",
      "hello 9\n",
      "hello 16\n",
      "hello 25\n",
      "hello 36\n",
      "hello 49\n",
      "hello 64\n",
      "hello 81\n",
      "hello 100\n"
     ]
    }
   ],
   "source": [
    "#while\n",
    "#start\n",
    "#condition\n",
    "#increment\n",
    "i=1\n",
    "while i<=10:\n",
    "    print(\"hello\",i*i)\n",
    "    i=i+1\n",
    "    \n",
    "   "
   ]
  },
  {
   "cell_type": "code",
   "execution_count": 9,
   "id": "bbfb1a2c",
   "metadata": {},
   "outputs": [
    {
     "name": "stdout",
     "output_type": "stream",
     "text": [
      "4\n",
      "16\n",
      "36\n",
      "64\n",
      "100\n",
      "144\n",
      "196\n",
      "256\n",
      "324\n",
      "400\n",
      "484\n",
      "576\n",
      "676\n",
      "784\n",
      "900\n",
      "1024\n",
      "1156\n",
      "1296\n",
      "1444\n",
      "1600\n",
      "1764\n",
      "1936\n",
      "2116\n",
      "2304\n",
      "2500\n",
      "2704\n",
      "2916\n",
      "3136\n",
      "3364\n",
      "3600\n",
      "3844\n",
      "4096\n",
      "4356\n",
      "4624\n",
      "4900\n",
      "5184\n",
      "5476\n",
      "5776\n",
      "6084\n",
      "6400\n",
      "6724\n",
      "7056\n",
      "7396\n",
      "7744\n",
      "8100\n",
      "8464\n",
      "8836\n",
      "9216\n",
      "9604\n",
      "10000\n"
     ]
    }
   ],
   "source": [
    "#for\n",
    "# range----number\n",
    "#for in list,tuple\n",
    "for i in range(2,101,2):#n-1\n",
    "    print(i*i)"
   ]
  },
  {
   "cell_type": "code",
   "execution_count": 13,
   "id": "cb19c9ee",
   "metadata": {},
   "outputs": [
    {
     "name": "stdout",
     "output_type": "stream",
     "text": [
      "6084\n",
      "2025\n",
      "12.25\n",
      "79.21000000000001\n",
      "31.359999999999996\n"
     ]
    }
   ],
   "source": [
    "l=[78,45,3.5,8.9,5.6]\n",
    "for i in l:\n",
    "    print(i*i)"
   ]
  },
  {
   "cell_type": "code",
   "execution_count": 14,
   "id": "e253e29b",
   "metadata": {},
   "outputs": [],
   "source": [
    "s=\"hello world\""
   ]
  },
  {
   "cell_type": "code",
   "execution_count": 19,
   "id": "4a934ff5",
   "metadata": {},
   "outputs": [
    {
     "ename": "TypeError",
     "evalue": "'int' object is not iterable",
     "output_type": "error",
     "traceback": [
      "\u001b[1;31m---------------------------------------------------------------------------\u001b[0m",
      "\u001b[1;31mTypeError\u001b[0m                                 Traceback (most recent call last)",
      "\u001b[1;32m~\\AppData\\Local\\Temp/ipykernel_11244/3319546106.py\u001b[0m in \u001b[0;36m<module>\u001b[1;34m\u001b[0m\n\u001b[1;32m----> 1\u001b[1;33m \u001b[1;32mfor\u001b[0m \u001b[0mi\u001b[0m \u001b[1;32min\u001b[0m \u001b[0mlen\u001b[0m\u001b[1;33m(\u001b[0m\u001b[0ms\u001b[0m\u001b[1;33m)\u001b[0m\u001b[1;33m:\u001b[0m\u001b[1;33m\u001b[0m\u001b[1;33m\u001b[0m\u001b[0m\n\u001b[0m\u001b[0;32m      2\u001b[0m     \u001b[0mprint\u001b[0m\u001b[1;33m(\u001b[0m\u001b[0mi\u001b[0m\u001b[1;33m,\u001b[0m\u001b[0mend\u001b[0m\u001b[1;33m=\u001b[0m\u001b[1;34m\"\"\u001b[0m\u001b[1;33m)\u001b[0m\u001b[1;33m\u001b[0m\u001b[1;33m\u001b[0m\u001b[0m\n",
      "\u001b[1;31mTypeError\u001b[0m: 'int' object is not iterable"
     ]
    }
   ],
   "source": [
    "for i in rangelen(s):\n",
    "    print(i,end=\"\")"
   ]
  },
  {
   "cell_type": "code",
   "execution_count": 29,
   "id": "d35af334",
   "metadata": {},
   "outputs": [],
   "source": [
    "#function----\n",
    "#pre-defined or inbuilt function-----print,len,insert,append\n",
    "#user defined function-----def\n",
    "def check(num):\n",
    "    if num%2==0:\n",
    "        print(num,\"even\")\n",
    "    else:\n",
    "        print(\"odd\")"
   ]
  },
  {
   "cell_type": "code",
   "execution_count": 30,
   "id": "a9f9f88b",
   "metadata": {},
   "outputs": [
    {
     "name": "stdout",
     "output_type": "stream",
     "text": [
      "8 even\n"
     ]
    }
   ],
   "source": [
    "check(8)"
   ]
  },
  {
   "cell_type": "code",
   "execution_count": 24,
   "id": "ad670af7",
   "metadata": {},
   "outputs": [],
   "source": [
    "#\n",
    "def swap(x,y):\n",
    "    z=x\n",
    "    x=y\n",
    "    y=z\n",
    "    print(x)\n",
    "    print(y)"
   ]
  },
  {
   "cell_type": "code",
   "execution_count": 26,
   "id": "a9c3f82e",
   "metadata": {},
   "outputs": [
    {
     "name": "stdout",
     "output_type": "stream",
     "text": [
      "hii\n",
      "hello\n"
     ]
    }
   ],
   "source": [
    "swap(\"hello\",\"hii\")"
   ]
  },
  {
   "cell_type": "code",
   "execution_count": null,
   "id": "ba58921b",
   "metadata": {},
   "outputs": [],
   "source": []
  }
 ],
 "metadata": {
  "kernelspec": {
   "display_name": "Python 3 (ipykernel)",
   "language": "python",
   "name": "python3"
  },
  "language_info": {
   "codemirror_mode": {
    "name": "ipython",
    "version": 3
   },
   "file_extension": ".py",
   "mimetype": "text/x-python",
   "name": "python",
   "nbconvert_exporter": "python",
   "pygments_lexer": "ipython3",
   "version": "3.9.7"
  }
 },
 "nbformat": 4,
 "nbformat_minor": 5
}
