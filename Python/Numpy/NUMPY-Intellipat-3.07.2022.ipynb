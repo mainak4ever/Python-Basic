{
 "cells": [
  {
   "cell_type": "code",
   "execution_count": 1,
   "id": "a82a420e",
   "metadata": {},
   "outputs": [],
   "source": [
    "import numpy as np"
   ]
  },
  {
   "cell_type": "code",
   "execution_count": 2,
   "id": "4a55e698",
   "metadata": {},
   "outputs": [],
   "source": [
    "a=np.arange(16)"
   ]
  },
  {
   "cell_type": "code",
   "execution_count": 3,
   "id": "d211ca5e",
   "metadata": {},
   "outputs": [],
   "source": [
    "b=a.reshape(4,4)"
   ]
  },
  {
   "cell_type": "code",
   "execution_count": 4,
   "id": "9352aa66",
   "metadata": {},
   "outputs": [
    {
     "data": {
      "text/plain": [
       "array([[ 0,  1,  2,  3],\n",
       "       [ 4,  5,  6,  7],\n",
       "       [ 8,  9, 10, 11],\n",
       "       [12, 13, 14, 15]])"
      ]
     },
     "execution_count": 4,
     "metadata": {},
     "output_type": "execute_result"
    }
   ],
   "source": [
    "b"
   ]
  },
  {
   "cell_type": "code",
   "execution_count": 6,
   "id": "a9573108",
   "metadata": {},
   "outputs": [
    {
     "data": {
      "text/plain": [
       "13"
      ]
     },
     "execution_count": 6,
     "metadata": {},
     "output_type": "execute_result"
    }
   ],
   "source": [
    "b[3][1]"
   ]
  },
  {
   "cell_type": "code",
   "execution_count": 7,
   "id": "72ccae5e",
   "metadata": {},
   "outputs": [
    {
     "data": {
      "text/plain": [
       "13"
      ]
     },
     "execution_count": 7,
     "metadata": {},
     "output_type": "execute_result"
    }
   ],
   "source": [
    "b[3,1]"
   ]
  },
  {
   "cell_type": "code",
   "execution_count": 8,
   "id": "ccc23dbf",
   "metadata": {},
   "outputs": [
    {
     "data": {
      "text/plain": [
       "13"
      ]
     },
     "execution_count": 8,
     "metadata": {},
     "output_type": "execute_result"
    }
   ],
   "source": [
    "b[-1][-3]"
   ]
  },
  {
   "cell_type": "code",
   "execution_count": 9,
   "id": "4b5cb08e",
   "metadata": {},
   "outputs": [
    {
     "data": {
      "text/plain": [
       "13"
      ]
     },
     "execution_count": 9,
     "metadata": {},
     "output_type": "execute_result"
    }
   ],
   "source": [
    "b[-1,-3]"
   ]
  },
  {
   "cell_type": "markdown",
   "id": "7134c860",
   "metadata": {},
   "source": [
    "#### Creating vs Initializing an array"
   ]
  },
  {
   "cell_type": "code",
   "execution_count": 11,
   "id": "ce9b0479",
   "metadata": {},
   "outputs": [],
   "source": [
    "c=np.array([])"
   ]
  },
  {
   "cell_type": "code",
   "execution_count": 13,
   "id": "a4281178",
   "metadata": {},
   "outputs": [],
   "source": [
    "c=b.copy()"
   ]
  },
  {
   "cell_type": "code",
   "execution_count": 14,
   "id": "a0015e2c",
   "metadata": {},
   "outputs": [
    {
     "data": {
      "text/plain": [
       "array([[ 0,  1,  2,  3],\n",
       "       [ 4,  5,  6,  7],\n",
       "       [ 8,  9, 10, 11],\n",
       "       [12, 13, 14, 15]])"
      ]
     },
     "execution_count": 14,
     "metadata": {},
     "output_type": "execute_result"
    }
   ],
   "source": [
    "c"
   ]
  },
  {
   "cell_type": "code",
   "execution_count": 15,
   "id": "b6e72dd6",
   "metadata": {},
   "outputs": [],
   "source": [
    "lt=[1,2,3,\"Aayush\",True,False]"
   ]
  },
  {
   "cell_type": "code",
   "execution_count": 17,
   "id": "7aff8efb",
   "metadata": {},
   "outputs": [],
   "source": [
    "d=np.array(lt)"
   ]
  },
  {
   "cell_type": "code",
   "execution_count": 20,
   "id": "b8cc97bb",
   "metadata": {},
   "outputs": [
    {
     "data": {
      "text/plain": [
       "numpy.str_"
      ]
     },
     "execution_count": 20,
     "metadata": {},
     "output_type": "execute_result"
    }
   ],
   "source": [
    "type(d[-1])"
   ]
  },
  {
   "cell_type": "code",
   "execution_count": 21,
   "id": "0df2de71",
   "metadata": {},
   "outputs": [
    {
     "data": {
      "text/plain": [
       "bool"
      ]
     },
     "execution_count": 21,
     "metadata": {},
     "output_type": "execute_result"
    }
   ],
   "source": [
    "type(lt[-1])"
   ]
  },
  {
   "cell_type": "code",
   "execution_count": 22,
   "id": "9c123b2a",
   "metadata": {},
   "outputs": [
    {
     "data": {
      "text/plain": [
       "array(['1', '2', '3', 'Aayush', 'True', 'False'], dtype='<U11')"
      ]
     },
     "execution_count": 22,
     "metadata": {},
     "output_type": "execute_result"
    }
   ],
   "source": [
    "d"
   ]
  },
  {
   "cell_type": "code",
   "execution_count": 24,
   "id": "6617fbf0",
   "metadata": {},
   "outputs": [],
   "source": [
    "lt1=[1,2,4]\n",
    "e=np.array(lt1)"
   ]
  },
  {
   "cell_type": "code",
   "execution_count": 26,
   "id": "1a4ac83c",
   "metadata": {},
   "outputs": [
    {
     "data": {
      "text/plain": [
       "numpy.int32"
      ]
     },
     "execution_count": 26,
     "metadata": {},
     "output_type": "execute_result"
    }
   ],
   "source": [
    "type(e[0])"
   ]
  },
  {
   "cell_type": "code",
   "execution_count": 27,
   "id": "ff339c32",
   "metadata": {},
   "outputs": [
    {
     "data": {
      "text/plain": [
       "array(['1', '2', '4'], dtype='<U1')"
      ]
     },
     "execution_count": 27,
     "metadata": {},
     "output_type": "execute_result"
    }
   ],
   "source": [
    "np.array(lt1,dtype=str)"
   ]
  },
  {
   "cell_type": "code",
   "execution_count": 28,
   "id": "2683eb7b",
   "metadata": {},
   "outputs": [
    {
     "ename": "ValueError",
     "evalue": "invalid literal for int() with base 10: 'Aayush'",
     "output_type": "error",
     "traceback": [
      "\u001b[1;31m---------------------------------------------------------------------------\u001b[0m",
      "\u001b[1;31mValueError\u001b[0m                                Traceback (most recent call last)",
      "\u001b[1;32m<ipython-input-28-a95241a7cf0a>\u001b[0m in \u001b[0;36m<module>\u001b[1;34m\u001b[0m\n\u001b[1;32m----> 1\u001b[1;33m \u001b[0mnp\u001b[0m\u001b[1;33m.\u001b[0m\u001b[0marray\u001b[0m\u001b[1;33m(\u001b[0m\u001b[0mlt\u001b[0m\u001b[1;33m,\u001b[0m\u001b[0mdtype\u001b[0m\u001b[1;33m=\u001b[0m\u001b[0mint\u001b[0m\u001b[1;33m)\u001b[0m\u001b[1;33m\u001b[0m\u001b[1;33m\u001b[0m\u001b[0m\n\u001b[0m",
      "\u001b[1;31mValueError\u001b[0m: invalid literal for int() with base 10: 'Aayush'"
     ]
    }
   ],
   "source": [
    "np.array(lt,dtype=int)"
   ]
  },
  {
   "cell_type": "code",
   "execution_count": 29,
   "id": "d13fdad9",
   "metadata": {},
   "outputs": [
    {
     "data": {
      "text/plain": [
       "array([1, 2, 3, 1, 0])"
      ]
     },
     "execution_count": 29,
     "metadata": {},
     "output_type": "execute_result"
    }
   ],
   "source": [
    "lt2=[1,2,3,True,False]\n",
    "np.array(lt2,dtype=int)"
   ]
  },
  {
   "cell_type": "code",
   "execution_count": 30,
   "id": "3f4f5328",
   "metadata": {},
   "outputs": [
    {
     "data": {
      "text/plain": [
       "array([ True,  True,  True,  True, False])"
      ]
     },
     "execution_count": 30,
     "metadata": {},
     "output_type": "execute_result"
    }
   ],
   "source": [
    "np.array(lt2,dtype=bool)"
   ]
  },
  {
   "cell_type": "code",
   "execution_count": 31,
   "id": "00e5ce8c",
   "metadata": {},
   "outputs": [
    {
     "data": {
      "text/plain": [
       "array([ True,  True,  True,  True,  True, False])"
      ]
     },
     "execution_count": 31,
     "metadata": {},
     "output_type": "execute_result"
    }
   ],
   "source": [
    "np.array(lt,dtype=bool)"
   ]
  },
  {
   "cell_type": "code",
   "execution_count": 36,
   "id": "25d69fb1",
   "metadata": {},
   "outputs": [],
   "source": [
    "x=np.zeros(10).reshape(5,2)"
   ]
  },
  {
   "cell_type": "code",
   "execution_count": 40,
   "id": "a646d31c",
   "metadata": {},
   "outputs": [
    {
     "data": {
      "text/plain": [
       "numpy.float64"
      ]
     },
     "execution_count": 40,
     "metadata": {},
     "output_type": "execute_result"
    }
   ],
   "source": [
    "type(x[0][-1])"
   ]
  },
  {
   "cell_type": "code",
   "execution_count": 34,
   "id": "9f384038",
   "metadata": {},
   "outputs": [
    {
     "data": {
      "text/plain": [
       "array([1., 1., 1., 1., 1., 1., 1., 1., 1., 1.])"
      ]
     },
     "execution_count": 34,
     "metadata": {},
     "output_type": "execute_result"
    }
   ],
   "source": [
    "np.ones(10)"
   ]
  },
  {
   "cell_type": "code",
   "execution_count": 35,
   "id": "8d371764",
   "metadata": {},
   "outputs": [
    {
     "data": {
      "text/plain": [
       "array([[1., 1., 1., 1., 1.],\n",
       "       [1., 1., 1., 1., 1.]])"
      ]
     },
     "execution_count": 35,
     "metadata": {},
     "output_type": "execute_result"
    }
   ],
   "source": [
    "np.ones(10).reshape(2,5)"
   ]
  },
  {
   "cell_type": "code",
   "execution_count": 41,
   "id": "2403ec4b",
   "metadata": {},
   "outputs": [
    {
     "data": {
      "text/plain": [
       "array([[1., 0., 0., 0., 0.],\n",
       "       [0., 1., 0., 0., 0.],\n",
       "       [0., 0., 1., 0., 0.],\n",
       "       [0., 0., 0., 1., 0.],\n",
       "       [0., 0., 0., 0., 1.]])"
      ]
     },
     "execution_count": 41,
     "metadata": {},
     "output_type": "execute_result"
    }
   ],
   "source": [
    "np.eye(5)"
   ]
  },
  {
   "cell_type": "code",
   "execution_count": 43,
   "id": "bf2c55eb",
   "metadata": {},
   "outputs": [
    {
     "data": {
      "text/plain": [
       "array([[1., 0.],\n",
       "       [0., 1.]])"
      ]
     },
     "execution_count": 43,
     "metadata": {},
     "output_type": "execute_result"
    }
   ],
   "source": [
    "np.eye(2)"
   ]
  },
  {
   "cell_type": "code",
   "execution_count": 45,
   "id": "04bf5162",
   "metadata": {},
   "outputs": [
    {
     "data": {
      "text/plain": [
       "array([[0., 0., 0.],\n",
       "       [0., 0., 0.]])"
      ]
     },
     "execution_count": 45,
     "metadata": {},
     "output_type": "execute_result"
    }
   ],
   "source": [
    "np.zeros(shape=(2,3))"
   ]
  },
  {
   "cell_type": "code",
   "execution_count": 46,
   "id": "ae4fac14",
   "metadata": {},
   "outputs": [
    {
     "data": {
      "text/plain": [
       "array([[1, 0, 0, 0, 0, 0],\n",
       "       [0, 2, 0, 0, 0, 0],\n",
       "       [0, 0, 3, 0, 0, 0],\n",
       "       [0, 0, 0, 4, 0, 0],\n",
       "       [0, 0, 0, 0, 5, 0],\n",
       "       [0, 0, 0, 0, 0, 6]])"
      ]
     },
     "execution_count": 46,
     "metadata": {},
     "output_type": "execute_result"
    }
   ],
   "source": [
    "np.diag(np.array([1,2,3,4,5,6]))"
   ]
  },
  {
   "cell_type": "code",
   "execution_count": 48,
   "id": "b7ecc7fb",
   "metadata": {},
   "outputs": [
    {
     "data": {
      "text/plain": [
       "array([[1., 0., 0., 0., 0., 0.],\n",
       "       [0., 2., 0., 0., 0., 0.],\n",
       "       [0., 0., 3., 0., 0., 0.],\n",
       "       [0., 0., 0., 4., 0., 0.],\n",
       "       [0., 0., 0., 0., 5., 0.],\n",
       "       [0., 0., 0., 0., 0., 6.]])"
      ]
     },
     "execution_count": 48,
     "metadata": {},
     "output_type": "execute_result"
    }
   ],
   "source": [
    "np.diag(np.array([1,2,3,4,5,6],dtype=float))"
   ]
  },
  {
   "cell_type": "code",
   "execution_count": 51,
   "id": "625f12bd",
   "metadata": {},
   "outputs": [
    {
     "data": {
      "text/plain": [
       "array([[0, 0, 0, 0, 0],\n",
       "       [0, 0, 0, 0, 0]])"
      ]
     },
     "execution_count": 51,
     "metadata": {},
     "output_type": "execute_result"
    }
   ],
   "source": [
    "np.zeros(10,dtype=int).reshape(2,5)"
   ]
  },
  {
   "cell_type": "code",
   "execution_count": 49,
   "id": "07687977",
   "metadata": {},
   "outputs": [],
   "source": [
    "# Random Module"
   ]
  },
  {
   "cell_type": "code",
   "execution_count": 52,
   "id": "227f5678",
   "metadata": {},
   "outputs": [
    {
     "data": {
      "text/plain": [
       "array([[0.69035322, 0.22596025, 0.01920563],\n",
       "       [0.34894053, 0.31711388, 0.20372105],\n",
       "       [0.66367416, 0.51597138, 0.31616644]])"
      ]
     },
     "execution_count": 52,
     "metadata": {},
     "output_type": "execute_result"
    }
   ],
   "source": [
    "# return float values in half open interval of [0.0,1.0)\n",
    "np.random.random((3,3))"
   ]
  },
  {
   "cell_type": "code",
   "execution_count": 65,
   "id": "70b05d6d",
   "metadata": {},
   "outputs": [],
   "source": [
    "from numpy import random as rd"
   ]
  },
  {
   "cell_type": "code",
   "execution_count": 66,
   "id": "aced7086",
   "metadata": {},
   "outputs": [
    {
     "data": {
      "text/plain": [
       "array([0.98466148, 0.04766649, 0.63116469, 0.12668896, 0.42613541,\n",
       "       0.86796053, 0.42769511, 0.54456226, 0.81105413, 0.14266581])"
      ]
     },
     "execution_count": 66,
     "metadata": {},
     "output_type": "execute_result"
    }
   ],
   "source": [
    "rd.random(10)"
   ]
  },
  {
   "cell_type": "code",
   "execution_count": 57,
   "id": "470e5008",
   "metadata": {},
   "outputs": [],
   "source": [
    "a=np.random.random(10)\n",
    "b=np.random.random((10,))"
   ]
  },
  {
   "cell_type": "code",
   "execution_count": 58,
   "id": "f75f66ff",
   "metadata": {},
   "outputs": [
    {
     "data": {
      "text/plain": [
       "array([False, False, False, False, False, False, False, False, False,\n",
       "       False])"
      ]
     },
     "execution_count": 58,
     "metadata": {},
     "output_type": "execute_result"
    }
   ],
   "source": [
    "a == b "
   ]
  },
  {
   "cell_type": "code",
   "execution_count": 61,
   "id": "34ee0e21",
   "metadata": {},
   "outputs": [
    {
     "data": {
      "text/plain": [
       "True"
      ]
     },
     "execution_count": 61,
     "metadata": {},
     "output_type": "execute_result"
    }
   ],
   "source": [
    "a.shape == b.shape"
   ]
  },
  {
   "cell_type": "code",
   "execution_count": 62,
   "id": "a69b9d55",
   "metadata": {},
   "outputs": [
    {
     "data": {
      "text/plain": [
       "array([False, False, False, False, False, False, False, False, False,\n",
       "       False])"
      ]
     },
     "execution_count": 62,
     "metadata": {},
     "output_type": "execute_result"
    }
   ],
   "source": [
    "a == b # element wise comparison"
   ]
  },
  {
   "cell_type": "code",
   "execution_count": 63,
   "id": "aa9fb566",
   "metadata": {},
   "outputs": [
    {
     "data": {
      "text/plain": [
       "array([0.48263823, 0.9885352 , 0.0978795 , 0.85500924, 0.1794367 ,\n",
       "       0.04930678, 0.4533887 , 0.4619148 , 0.29001662, 0.37977593])"
      ]
     },
     "execution_count": 63,
     "metadata": {},
     "output_type": "execute_result"
    }
   ],
   "source": [
    "a\n"
   ]
  },
  {
   "cell_type": "code",
   "execution_count": 64,
   "id": "f0d8a1c7",
   "metadata": {},
   "outputs": [
    {
     "data": {
      "text/plain": [
       "array([0.19243303, 0.99497173, 0.52728441, 0.16020813, 0.31421428,\n",
       "       0.28218082, 0.30725778, 0.85068139, 0.23631183, 0.27418082])"
      ]
     },
     "execution_count": 64,
     "metadata": {},
     "output_type": "execute_result"
    }
   ],
   "source": [
    "b"
   ]
  },
  {
   "cell_type": "code",
   "execution_count": null,
   "id": "8607cfd6",
   "metadata": {},
   "outputs": [],
   "source": [
    "np.equal()"
   ]
  },
  {
   "cell_type": "code",
   "execution_count": 67,
   "id": "6fb4c906",
   "metadata": {},
   "outputs": [],
   "source": [
    "# time based function seed value"
   ]
  },
  {
   "cell_type": "code",
   "execution_count": 69,
   "id": "82fb9d12",
   "metadata": {},
   "outputs": [
    {
     "data": {
      "text/plain": [
       "array([0.67929579, 0.20076417, 0.2403952 , 0.85622316, 0.13237462,\n",
       "       0.27935979, 0.69821405, 0.01692868, 0.88416113, 0.84206277])"
      ]
     },
     "execution_count": 69,
     "metadata": {},
     "output_type": "execute_result"
    }
   ],
   "source": [
    "rd.random(10)"
   ]
  },
  {
   "cell_type": "code",
   "execution_count": 70,
   "id": "93c30c58",
   "metadata": {},
   "outputs": [
    {
     "data": {
      "text/plain": [
       "array([[0.88788549, 0.29939778],\n",
       "       [0.42640979, 0.99816009],\n",
       "       [0.50185656, 0.3581732 ]])"
      ]
     },
     "execution_count": 70,
     "metadata": {},
     "output_type": "execute_result"
    }
   ],
   "source": [
    "np.random.rand(3,2)"
   ]
  },
  {
   "cell_type": "code",
   "execution_count": 71,
   "id": "a3f7fc4c",
   "metadata": {},
   "outputs": [
    {
     "data": {
      "text/plain": [
       "array([0.26440814, 0.86609413, 0.74224683, 0.23667399, 0.78582588,\n",
       "       0.61367839, 0.09814947, 0.67979661, 0.69517642, 0.75027593])"
      ]
     },
     "execution_count": 71,
     "metadata": {},
     "output_type": "execute_result"
    }
   ],
   "source": [
    "np.random.rand(10)"
   ]
  },
  {
   "cell_type": "code",
   "execution_count": 72,
   "id": "8d522f1d",
   "metadata": {},
   "outputs": [
    {
     "ename": "TypeError",
     "evalue": "random() takes at most 1 positional argument (2 given)",
     "output_type": "error",
     "traceback": [
      "\u001b[1;31m---------------------------------------------------------------------------\u001b[0m",
      "\u001b[1;31mTypeError\u001b[0m                                 Traceback (most recent call last)",
      "\u001b[1;32m<ipython-input-72-737ba616e7c0>\u001b[0m in \u001b[0;36m<module>\u001b[1;34m\u001b[0m\n\u001b[1;32m----> 1\u001b[1;33m \u001b[0mnp\u001b[0m\u001b[1;33m.\u001b[0m\u001b[0mrandom\u001b[0m\u001b[1;33m.\u001b[0m\u001b[0mrandom\u001b[0m\u001b[1;33m(\u001b[0m\u001b[1;36m10\u001b[0m\u001b[1;33m,\u001b[0m\u001b[1;36m2\u001b[0m\u001b[1;33m)\u001b[0m\u001b[1;33m\u001b[0m\u001b[1;33m\u001b[0m\u001b[0m\n\u001b[0m",
      "\u001b[1;32mmtrand.pyx\u001b[0m in \u001b[0;36mnumpy.random.mtrand.RandomState.random\u001b[1;34m()\u001b[0m\n",
      "\u001b[1;31mTypeError\u001b[0m: random() takes at most 1 positional argument (2 given)"
     ]
    }
   ],
   "source": [
    "np.random.random(10)"
   ]
  },
  {
   "cell_type": "code",
   "execution_count": 73,
   "id": "6b58cf26",
   "metadata": {},
   "outputs": [
    {
     "data": {
      "text/plain": [
       "array([5, 4, 6, 0, 3])"
      ]
     },
     "execution_count": 73,
     "metadata": {},
     "output_type": "execute_result"
    }
   ],
   "source": [
    "np.random.randint(0,10,5)"
   ]
  },
  {
   "cell_type": "code",
   "execution_count": 74,
   "id": "fc7522fc",
   "metadata": {},
   "outputs": [
    {
     "data": {
      "text/plain": [
       "array([3, 2, 3, 0, 1, 5, 4, 9, 2, 8, 1, 8, 4, 2, 0, 3, 5, 5, 5, 8, 3, 9,\n",
       "       9, 6, 2, 0, 3, 9, 5, 1, 9, 4, 4, 8, 9, 3, 9, 7, 1, 0, 0, 1, 0, 7,\n",
       "       6, 5, 8, 4, 3, 6])"
      ]
     },
     "execution_count": 74,
     "metadata": {},
     "output_type": "execute_result"
    }
   ],
   "source": [
    "np.random.randint(0,10,50)"
   ]
  },
  {
   "cell_type": "code",
   "execution_count": 76,
   "id": "4fa436aa",
   "metadata": {},
   "outputs": [
    {
     "data": {
      "text/plain": [
       "array([2, 3, 1, 4, 6, 2, 1, 5, 6, 4, 3, 6, 3, 2, 5, 3, 6, 2, 2, 4, 6, 4,\n",
       "       3, 5, 4, 5, 1, 2, 1, 1, 4, 4, 6, 4, 3, 4, 5, 5, 4, 4, 2, 5, 4, 6,\n",
       "       5, 4, 6, 5, 5, 6])"
      ]
     },
     "execution_count": 76,
     "metadata": {},
     "output_type": "execute_result"
    }
   ],
   "source": [
    "np.random.randint(1,7,50)"
   ]
  },
  {
   "cell_type": "markdown",
   "id": "eb134542",
   "metadata": {},
   "source": [
    "52 cards - Create an array for that.\n",
    "\n",
    "10 random cards and tell me the highest steak of one particular type of card\n",
    "eg\n",
    "\n",
    "1- Hearts, A-spade,10-hearts, King-hearts, Queen- hearts\n",
    "\n",
    "3"
   ]
  },
  {
   "cell_type": "code",
   "execution_count": 79,
   "id": "bc523504",
   "metadata": {},
   "outputs": [],
   "source": [
    "suits=['spades','clubs','hearts','diamonds']\n",
    "values= list(range(1,14))"
   ]
  },
  {
   "cell_type": "code",
   "execution_count": 80,
   "id": "2dde91aa",
   "metadata": {},
   "outputs": [
    {
     "data": {
      "text/plain": [
       "[1, 2, 3, 4, 5, 6, 7, 8, 9, 10, 11, 12, 13]"
      ]
     },
     "execution_count": 80,
     "metadata": {},
     "output_type": "execute_result"
    }
   ],
   "source": [
    "values"
   ]
  },
  {
   "cell_type": "code",
   "execution_count": 81,
   "id": "ca0b7c93",
   "metadata": {},
   "outputs": [
    {
     "data": {
      "text/plain": [
       "['spades', 'clubs', 'hearts', 'diamonds']"
      ]
     },
     "execution_count": 81,
     "metadata": {},
     "output_type": "execute_result"
    }
   ],
   "source": [
    "suits"
   ]
  },
  {
   "cell_type": "code",
   "execution_count": 86,
   "id": "689dd855",
   "metadata": {},
   "outputs": [],
   "source": [
    "cards=[]\n",
    "for i in values:\n",
    "    for j in suits:\n",
    "        cards.append(str(i)+\"_\"+j)"
   ]
  },
  {
   "cell_type": "code",
   "execution_count": 89,
   "id": "3615cac4",
   "metadata": {},
   "outputs": [],
   "source": [
    "samples=np.random.choice(cards,10)"
   ]
  },
  {
   "cell_type": "code",
   "execution_count": 90,
   "id": "9ce46665",
   "metadata": {},
   "outputs": [
    {
     "data": {
      "text/plain": [
       "array(['1_diamonds', '6_hearts', '11_diamonds', '4_clubs', '12_spades',\n",
       "       '2_diamonds', '12_hearts', '7_spades', '2_spades', '10_hearts'],\n",
       "      dtype='<U11')"
      ]
     },
     "execution_count": 90,
     "metadata": {},
     "output_type": "execute_result"
    }
   ],
   "source": [
    "samples"
   ]
  },
  {
   "cell_type": "code",
   "execution_count": null,
   "id": "896f6e4c",
   "metadata": {},
   "outputs": [],
   "source": [
    "[1,0,1,0,0,1,0,0,0,0]\n",
    "a[0],a[1]"
   ]
  },
  {
   "cell_type": "code",
   "execution_count": 91,
   "id": "e99d3e8c",
   "metadata": {},
   "outputs": [
    {
     "name": "stdout",
     "output_type": "stream",
     "text": [
      "('7', 'CLUB')\n",
      "('4', 'Heart')\n",
      "('4', 'DIAMOND')\n",
      "('6', 'SPADE')\n",
      "('9', 'Heart')\n",
      "('J', 'Heart')\n",
      "('9', 'CLUB')\n",
      "('4', 'DIAMOND')\n",
      "('4', 'SPADE')\n",
      "('8', 'CLUB')\n"
     ]
    }
   ],
   "source": [
    "import random\n",
    "card_points =['A','K','Q','J','2','3','4','5','6','7','8','9','10']\n",
    "card_signs =['Heart','CLUB','DIAMOND','SPADE']\n",
    "for i in range(10):\n",
    "    random_point = random.choice(card_points,)\n",
    "    random_sign = random.choice(card_signs)\n",
    "    random_card = random_point,random_sign\n",
    "    print(random_card)\n"
   ]
  },
  {
   "cell_type": "code",
   "execution_count": 93,
   "id": "409d152d",
   "metadata": {},
   "outputs": [
    {
     "name": "stdout",
     "output_type": "stream",
     "text": [
      "heart values are:   [13, 5, 8]\n",
      "diamond values are:   [1, 1, 2]\n",
      "spades values are:   [12]\n",
      "club values are:   [7, 9]\n",
      "Maximum heart value is:  13\n",
      "Maximum diamonds value is:  2\n",
      "Maximum spades value is:  12\n",
      "Maximum clubs value is:  9\n"
     ]
    }
   ],
   "source": [
    "colors = ['heart', 'diamonds', 'spades', 'clubs']\n",
    "i = 1\n",
    "heart = []\n",
    "diamonds = []\n",
    "spades = []\n",
    "clubs = []\n",
    "while i <  10:\n",
    "    rand_color = np.random.randint(1,5,1)\n",
    "    rand_card_value = np.random.randint(1,14,1)[0]\n",
    "    if rand_color == 1:\n",
    "        heart.append(rand_card_value)\n",
    "    elif rand_color == 2:\n",
    "        diamonds.append(rand_card_value)\n",
    "    elif rand_color == 3:\n",
    "        spades.append(rand_card_value)\n",
    "    elif rand_color == 4:\n",
    "        clubs.append(rand_card_value)\n",
    "    i = i+1\n",
    "print (\"heart values are:  \",heart)\n",
    "print (\"diamond values are:  \",diamonds)\n",
    "print (\"spades values are:  \",spades)\n",
    "print (\"club values are:  \",clubs)\n",
    "if (len(heart) >0):\n",
    "    print(\"Maximum heart value is: \",max(heart))\n",
    "if (len(diamonds) >0):\n",
    "    print(\"Maximum diamonds value is: \",max(diamonds))\n",
    "if (len(spades) >0):\n",
    "    print(\"Maximum spades value is: \",max(spades))\n",
    "if (len(clubs) >0):\n",
    "    print(\"Maximum clubs value is: \",max(clubs))\n"
   ]
  },
  {
   "cell_type": "code",
   "execution_count": 94,
   "id": "24b0cf88",
   "metadata": {},
   "outputs": [
    {
     "data": {
      "text/plain": [
       "array([0.48263823, 0.9885352 , 0.0978795 , 0.85500924, 0.1794367 ,\n",
       "       0.04930678, 0.4533887 , 0.4619148 , 0.29001662, 0.37977593])"
      ]
     },
     "execution_count": 94,
     "metadata": {},
     "output_type": "execute_result"
    }
   ],
   "source": [
    "a"
   ]
  },
  {
   "cell_type": "code",
   "execution_count": 95,
   "id": "b7f9d80b",
   "metadata": {},
   "outputs": [
    {
     "data": {
      "text/plain": [
       "array([10.48263823, 10.9885352 , 10.0978795 , 10.85500924, 10.1794367 ,\n",
       "       10.04930678, 10.4533887 , 10.4619148 , 10.29001662, 10.37977593])"
      ]
     },
     "execution_count": 95,
     "metadata": {},
     "output_type": "execute_result"
    }
   ],
   "source": [
    "a+10"
   ]
  },
  {
   "cell_type": "code",
   "execution_count": 96,
   "id": "f5337f1a",
   "metadata": {},
   "outputs": [
    {
     "data": {
      "text/plain": [
       "array([0.46411766, 0.83522136, 0.09772329, 0.75457698, 0.17847535,\n",
       "       0.0492868 , 0.43801437, 0.44566305, 0.28596815, 0.37071238])"
      ]
     },
     "execution_count": 96,
     "metadata": {},
     "output_type": "execute_result"
    }
   ],
   "source": [
    "np.sin(a)"
   ]
  },
  {
   "cell_type": "code",
   "execution_count": 97,
   "id": "6fd55e05",
   "metadata": {},
   "outputs": [
    {
     "data": {
      "text/plain": [
       "array([0.88577356, 0.54991389, 0.99521362, 0.65621154, 0.98394438,\n",
       "       0.99878467, 0.89896797, 0.89520078, 0.95823912, 0.92874772])"
      ]
     },
     "execution_count": 97,
     "metadata": {},
     "output_type": "execute_result"
    }
   ],
   "source": [
    "np.cos(a)"
   ]
  },
  {
   "cell_type": "code",
   "execution_count": 98,
   "id": "9f62c3ee",
   "metadata": {},
   "outputs": [
    {
     "data": {
      "text/plain": [
       "0.0"
      ]
     },
     "execution_count": 98,
     "metadata": {},
     "output_type": "execute_result"
    }
   ],
   "source": [
    "np.sin(0)"
   ]
  },
  {
   "cell_type": "code",
   "execution_count": 99,
   "id": "e42cb6ab",
   "metadata": {},
   "outputs": [
    {
     "data": {
      "text/plain": [
       "0.8939966636005579"
      ]
     },
     "execution_count": 99,
     "metadata": {},
     "output_type": "execute_result"
    }
   ],
   "source": [
    "np.sin(90)"
   ]
  },
  {
   "cell_type": "code",
   "execution_count": 100,
   "id": "df747887",
   "metadata": {},
   "outputs": [
    {
     "data": {
      "text/plain": [
       "-0.8011526357338304"
      ]
     },
     "execution_count": 100,
     "metadata": {},
     "output_type": "execute_result"
    }
   ],
   "source": [
    "np.sin(180)"
   ]
  },
  {
   "cell_type": "code",
   "execution_count": 101,
   "id": "b99e5bca",
   "metadata": {},
   "outputs": [
    {
     "data": {
      "text/plain": [
       "0.9589157234143065"
      ]
     },
     "execution_count": 101,
     "metadata": {},
     "output_type": "execute_result"
    }
   ],
   "source": [
    "np.sin(360)"
   ]
  },
  {
   "cell_type": "markdown",
   "id": "472cb5e3",
   "metadata": {},
   "source": [
    "# Questions\n",
    "2 semester/terms in 10th standard,5 subjects\n",
    "0,100\n",
    "test_scores 0-100, 2x5\n",
    "and then passing marks in 50\n",
    "in how many subjects you passed in sem-1 and sem-2\n",
    "anyone who failed in more than 2 subjects in a semester will be - FAILED and everyone else is PAAS"
   ]
  },
  {
   "cell_type": "code",
   "execution_count": 104,
   "id": "7350d6f3",
   "metadata": {},
   "outputs": [
    {
     "name": "stdout",
     "output_type": "stream",
     "text": [
      "[[ 8 40 49 21 39]\n",
      " [99  7 57 97 19]]\n",
      "fail\n",
      "fail\n",
      "fail\n",
      "fail\n",
      "fail\n",
      "You failed in 5 subjects\n"
     ]
    }
   ],
   "source": [
    "import random\n",
    "import numpy as np\n",
    "\n",
    "\n",
    "test_scores=np.random.randint(1,101,10)\n",
    "fail=0\n",
    "test_scores=test_scores.reshape(2,5)\n",
    "print(test_scores)\n",
    "for i in test_scores:\n",
    "\n",
    "    for x in i:\n",
    "        \n",
    "    \n",
    "        if x < 40:\n",
    "          print('fail')\n",
    "          fail=fail+1\n",
    "          \n",
    "print('You failed in '+str(fail)+' subjects')"
   ]
  },
  {
   "cell_type": "code",
   "execution_count": 146,
   "id": "26dbbafb",
   "metadata": {},
   "outputs": [],
   "source": [
    "test_scores = np.random.randint(0, 100, (2, 5))"
   ]
  },
  {
   "cell_type": "code",
   "execution_count": 148,
   "id": "35dc768b",
   "metadata": {},
   "outputs": [
    {
     "data": {
      "text/plain": [
       "array([[25, 96, 79, 23, 24],\n",
       "       [ 0, 17, 72, 94, 76]])"
      ]
     },
     "execution_count": 148,
     "metadata": {},
     "output_type": "execute_result"
    }
   ],
   "source": [
    "test_scores"
   ]
  },
  {
   "cell_type": "code",
   "execution_count": 147,
   "id": "103fa0ec",
   "metadata": {},
   "outputs": [
    {
     "data": {
      "text/plain": [
       "array([ True, False])"
      ]
     },
     "execution_count": 147,
     "metadata": {},
     "output_type": "execute_result"
    }
   ],
   "source": [
    "# fail\n",
    "np.sum(test_scores <50,axis=1) >2"
   ]
  },
  {
   "cell_type": "code",
   "execution_count": 149,
   "id": "7744c33b",
   "metadata": {},
   "outputs": [
    {
     "data": {
      "text/plain": [
       "array([False,  True])"
      ]
     },
     "execution_count": 149,
     "metadata": {},
     "output_type": "execute_result"
    }
   ],
   "source": [
    "#pass\n",
    "np.sum(test_scores >50,axis=1) >2"
   ]
  },
  {
   "cell_type": "code",
   "execution_count": 123,
   "id": "bb79ee61",
   "metadata": {},
   "outputs": [
    {
     "name": "stdout",
     "output_type": "stream",
     "text": [
      "[[70 92 85 65  9]\n",
      " [46 54  8 80 74]]\n",
      "70\n",
      "92\n",
      "85\n",
      "65\n",
      "9\n",
      "1\n",
      "Pass\n",
      "46\n",
      "54\n",
      "8\n",
      "80\n",
      "74\n",
      "3\n",
      "Failed\n"
     ]
    }
   ],
   "source": [
    "import numpy as np\n",
    "\n",
    "a=np.random.randint(1,100,(2,5),dtype=int)\n",
    "print(a)\n",
    "count = 0\n",
    "for b in range(2):\n",
    "  for i in range(5):\n",
    "    print(a[b][i])\n",
    "    if a[b][i] < 50:\n",
    "      count = count +1\n",
    "  print(count)\n",
    "  if count>2:\n",
    "    print(\"Failed\")\n",
    "    count=0\n",
    "  else: \n",
    "    print(\"Pass\")\n"
   ]
  },
  {
   "cell_type": "code",
   "execution_count": 126,
   "id": "059e1da2",
   "metadata": {},
   "outputs": [
    {
     "name": "stdout",
     "output_type": "stream",
     "text": [
      "[[50 28 12 86 71]\n",
      " [33  9 91 70 12]]\n",
      "Semester 1\n",
      "You failed in  2  subjects.\n",
      "Semester 2\n",
      "You failed in  3  subjects\n",
      "You failed the semester\n"
     ]
    }
   ],
   "source": [
    "import numpy as np\n",
    "test_scores = np.array(np.random.randint(0,100,10)).reshape(2,5)\n",
    "print(test_scores)\n",
    "\n",
    "print(\"Semester 1\")\n",
    "fail_count_1 = 0\n",
    "for marks in test_scores[0]:\n",
    "  if marks<50:\n",
    "    fail_count_1 += 1\n",
    "print(\"You failed in \", fail_count_1, \" subjects.\")\n",
    "if (fail_count_1 > 2):\n",
    "  print(\"You failed the semester\")\n",
    "\n",
    "\n",
    "print(\"Semester 2\")\n",
    "fail_count_2 = 0\n",
    "for marks in test_scores[1]:\n",
    "  if marks<50:\n",
    "    fail_count_2 +=1\n",
    "print(\"You failed in \", fail_count_2, \" subjects\")\n",
    "if (fail_count_2> 2):\n",
    "  print(\"You failed the semester\")\n"
   ]
  },
  {
   "cell_type": "code",
   "execution_count": 151,
   "id": "fadbc03b",
   "metadata": {},
   "outputs": [],
   "source": [
    "a=np.random.randint(1,10,5)\n",
    "b=np.random.randint(1,10,5)"
   ]
  },
  {
   "cell_type": "code",
   "execution_count": 152,
   "id": "a7341014",
   "metadata": {},
   "outputs": [
    {
     "data": {
      "text/plain": [
       "array([2, 4, 1, 7, 8])"
      ]
     },
     "execution_count": 152,
     "metadata": {},
     "output_type": "execute_result"
    }
   ],
   "source": [
    "a"
   ]
  },
  {
   "cell_type": "code",
   "execution_count": 153,
   "id": "90c78409",
   "metadata": {},
   "outputs": [
    {
     "data": {
      "text/plain": [
       "array([5, 7, 6, 9, 6])"
      ]
     },
     "execution_count": 153,
     "metadata": {},
     "output_type": "execute_result"
    }
   ],
   "source": [
    "b"
   ]
  },
  {
   "cell_type": "code",
   "execution_count": 155,
   "id": "526ee605",
   "metadata": {},
   "outputs": [
    {
     "data": {
      "text/plain": [
       "55"
      ]
     },
     "execution_count": 155,
     "metadata": {},
     "output_type": "execute_result"
    }
   ],
   "source": [
    "np.sum((a,b))"
   ]
  },
  {
   "cell_type": "code",
   "execution_count": 156,
   "id": "184b17c0",
   "metadata": {},
   "outputs": [
    {
     "data": {
      "text/plain": [
       "22"
      ]
     },
     "execution_count": 156,
     "metadata": {},
     "output_type": "execute_result"
    }
   ],
   "source": [
    "np.sum(a)"
   ]
  },
  {
   "cell_type": "code",
   "execution_count": 157,
   "id": "1202ac8d",
   "metadata": {},
   "outputs": [
    {
     "data": {
      "text/plain": [
       "22"
      ]
     },
     "execution_count": 157,
     "metadata": {},
     "output_type": "execute_result"
    }
   ],
   "source": [
    "a.sum()"
   ]
  },
  {
   "cell_type": "code",
   "execution_count": 158,
   "id": "21cd3da2",
   "metadata": {},
   "outputs": [],
   "source": [
    "a=np.random.randint(1,10,(2,3))\n",
    "b=np.random.randint(1,10,(2,3))"
   ]
  },
  {
   "cell_type": "code",
   "execution_count": 159,
   "id": "f04c12d7",
   "metadata": {},
   "outputs": [
    {
     "data": {
      "text/plain": [
       "array([[2, 3, 1],\n",
       "       [5, 4, 6]])"
      ]
     },
     "execution_count": 159,
     "metadata": {},
     "output_type": "execute_result"
    }
   ],
   "source": [
    "a"
   ]
  },
  {
   "cell_type": "code",
   "execution_count": 160,
   "id": "2405c434",
   "metadata": {},
   "outputs": [
    {
     "data": {
      "text/plain": [
       "array([[2, 1, 8],\n",
       "       [4, 8, 5]])"
      ]
     },
     "execution_count": 160,
     "metadata": {},
     "output_type": "execute_result"
    }
   ],
   "source": [
    "b"
   ]
  },
  {
   "cell_type": "code",
   "execution_count": 162,
   "id": "caac6abb",
   "metadata": {},
   "outputs": [
    {
     "data": {
      "text/plain": [
       "array([ 6, 15])"
      ]
     },
     "execution_count": 162,
     "metadata": {},
     "output_type": "execute_result"
    }
   ],
   "source": [
    "# row wise sum\n",
    "np.sum(a,axis=1)"
   ]
  },
  {
   "cell_type": "code",
   "execution_count": 163,
   "id": "f9d0ba25",
   "metadata": {},
   "outputs": [
    {
     "data": {
      "text/plain": [
       "array([7, 7, 7])"
      ]
     },
     "execution_count": 163,
     "metadata": {},
     "output_type": "execute_result"
    }
   ],
   "source": [
    "# column wise sum\n",
    "np.sum(a,axis=0)"
   ]
  },
  {
   "cell_type": "code",
   "execution_count": 164,
   "id": "e4667c5e",
   "metadata": {},
   "outputs": [
    {
     "data": {
      "text/plain": [
       "array([[2, 3, 1],\n",
       "       [5, 4, 6]])"
      ]
     },
     "execution_count": 164,
     "metadata": {},
     "output_type": "execute_result"
    }
   ],
   "source": [
    "a"
   ]
  },
  {
   "cell_type": "code",
   "execution_count": 165,
   "id": "8311317b",
   "metadata": {},
   "outputs": [
    {
     "ename": "ValueError",
     "evalue": "invalid number of arguments",
     "output_type": "error",
     "traceback": [
      "\u001b[1;31m---------------------------------------------------------------------------\u001b[0m",
      "\u001b[1;31mValueError\u001b[0m                                Traceback (most recent call last)",
      "\u001b[1;32m<ipython-input-165-5df4c9d47fcd>\u001b[0m in \u001b[0;36m<module>\u001b[1;34m\u001b[0m\n\u001b[1;32m----> 1\u001b[1;33m \u001b[0mnp\u001b[0m\u001b[1;33m.\u001b[0m\u001b[0msubtract\u001b[0m\u001b[1;33m(\u001b[0m\u001b[0ma\u001b[0m\u001b[1;33m)\u001b[0m\u001b[1;33m\u001b[0m\u001b[1;33m\u001b[0m\u001b[0m\n\u001b[0m",
      "\u001b[1;31mValueError\u001b[0m: invalid number of arguments"
     ]
    }
   ],
   "source": [
    "np.subtract(a)"
   ]
  },
  {
   "cell_type": "code",
   "execution_count": 166,
   "id": "6188b9ea",
   "metadata": {},
   "outputs": [
    {
     "data": {
      "text/plain": [
       "array([[ 0,  2, -7],\n",
       "       [ 1, -4,  1]])"
      ]
     },
     "execution_count": 166,
     "metadata": {},
     "output_type": "execute_result"
    }
   ],
   "source": [
    "np.subtract(a,b)"
   ]
  },
  {
   "cell_type": "code",
   "execution_count": 167,
   "id": "56ff63ed",
   "metadata": {},
   "outputs": [
    {
     "data": {
      "text/plain": [
       "array([[2, 1, 8],\n",
       "       [4, 8, 5]])"
      ]
     },
     "execution_count": 167,
     "metadata": {},
     "output_type": "execute_result"
    }
   ],
   "source": [
    "b"
   ]
  },
  {
   "cell_type": "code",
   "execution_count": 168,
   "id": "46c39d04",
   "metadata": {},
   "outputs": [
    {
     "data": {
      "text/plain": [
       "array([[2, 3, 1],\n",
       "       [5, 4, 6]])"
      ]
     },
     "execution_count": 168,
     "metadata": {},
     "output_type": "execute_result"
    }
   ],
   "source": [
    "a"
   ]
  },
  {
   "cell_type": "code",
   "execution_count": 169,
   "id": "03779473",
   "metadata": {},
   "outputs": [
    {
     "data": {
      "text/plain": [
       "array([[ 0, -2,  7],\n",
       "       [-1,  4, -1]])"
      ]
     },
     "execution_count": 169,
     "metadata": {},
     "output_type": "execute_result"
    }
   ],
   "source": [
    "np.subtract(b,a)"
   ]
  },
  {
   "cell_type": "code",
   "execution_count": 170,
   "id": "20d6c899",
   "metadata": {},
   "outputs": [
    {
     "data": {
      "text/plain": [
       "7"
      ]
     },
     "execution_count": 170,
     "metadata": {},
     "output_type": "execute_result"
    }
   ],
   "source": [
    "np.subtract(10,3)"
   ]
  },
  {
   "cell_type": "code",
   "execution_count": 171,
   "id": "7a5f34db",
   "metadata": {},
   "outputs": [
    {
     "data": {
      "text/plain": [
       "array([[1.   , 3.   , 0.125],\n",
       "       [1.25 , 0.5  , 1.2  ]])"
      ]
     },
     "execution_count": 171,
     "metadata": {},
     "output_type": "execute_result"
    }
   ],
   "source": [
    "np.divide(a,b)"
   ]
  },
  {
   "cell_type": "code",
   "execution_count": 172,
   "id": "80bfde65",
   "metadata": {},
   "outputs": [
    {
     "data": {
      "text/plain": [
       "array([[-8, -7, -9],\n",
       "       [-5, -6, -4]])"
      ]
     },
     "execution_count": 172,
     "metadata": {},
     "output_type": "execute_result"
    }
   ],
   "source": [
    "np.subtract(a,10)"
   ]
  },
  {
   "cell_type": "code",
   "execution_count": 173,
   "id": "46b95f9e",
   "metadata": {},
   "outputs": [
    {
     "ename": "ValueError",
     "evalue": "invalid number of arguments",
     "output_type": "error",
     "traceback": [
      "\u001b[1;31m---------------------------------------------------------------------------\u001b[0m",
      "\u001b[1;31mValueError\u001b[0m                                Traceback (most recent call last)",
      "\u001b[1;32m<ipython-input-173-53f81af7b65f>\u001b[0m in \u001b[0;36m<module>\u001b[1;34m\u001b[0m\n\u001b[1;32m----> 1\u001b[1;33m \u001b[0mnp\u001b[0m\u001b[1;33m.\u001b[0m\u001b[0mdivide\u001b[0m\u001b[1;33m(\u001b[0m\u001b[0ma\u001b[0m\u001b[1;33m)\u001b[0m\u001b[1;33m\u001b[0m\u001b[1;33m\u001b[0m\u001b[0m\n\u001b[0m",
      "\u001b[1;31mValueError\u001b[0m: invalid number of arguments"
     ]
    }
   ],
   "source": [
    "np.divide(a)"
   ]
  },
  {
   "cell_type": "code",
   "execution_count": 175,
   "id": "a2427e26",
   "metadata": {},
   "outputs": [
    {
     "ename": "TypeError",
     "evalue": "'axis' is an invalid keyword to ufunc 'true_divide'",
     "output_type": "error",
     "traceback": [
      "\u001b[1;31m---------------------------------------------------------------------------\u001b[0m",
      "\u001b[1;31mTypeError\u001b[0m                                 Traceback (most recent call last)",
      "\u001b[1;32m<ipython-input-175-7f7211f7acf4>\u001b[0m in \u001b[0;36m<module>\u001b[1;34m\u001b[0m\n\u001b[1;32m----> 1\u001b[1;33m \u001b[0mnp\u001b[0m\u001b[1;33m.\u001b[0m\u001b[0mdivide\u001b[0m\u001b[1;33m(\u001b[0m\u001b[0ma\u001b[0m\u001b[1;33m,\u001b[0m\u001b[0mb\u001b[0m\u001b[1;33m,\u001b[0m\u001b[0maxis\u001b[0m\u001b[1;33m=\u001b[0m\u001b[1;36m1\u001b[0m\u001b[1;33m)\u001b[0m\u001b[1;33m\u001b[0m\u001b[1;33m\u001b[0m\u001b[0m\n\u001b[0m",
      "\u001b[1;31mTypeError\u001b[0m: 'axis' is an invalid keyword to ufunc 'true_divide'"
     ]
    }
   ],
   "source": [
    "np.divide(a,b,axis=1)"
   ]
  },
  {
   "cell_type": "code",
   "execution_count": 176,
   "id": "d97a2480",
   "metadata": {},
   "outputs": [
    {
     "data": {
      "text/plain": [
       "array([[1.   , 3.   , 0.125],\n",
       "       [1.25 , 0.5  , 1.2  ]])"
      ]
     },
     "execution_count": 176,
     "metadata": {},
     "output_type": "execute_result"
    }
   ],
   "source": [
    "np.divide(a,b)"
   ]
  },
  {
   "cell_type": "code",
   "execution_count": 177,
   "id": "7e711be4",
   "metadata": {},
   "outputs": [
    {
     "data": {
      "text/plain": [
       "array([[1.   , 3.   , 0.125],\n",
       "       [1.25 , 0.5  , 1.2  ]])"
      ]
     },
     "execution_count": 177,
     "metadata": {},
     "output_type": "execute_result"
    }
   ],
   "source": [
    "a/b"
   ]
  },
  {
   "cell_type": "code",
   "execution_count": 178,
   "id": "c8e39a7f",
   "metadata": {},
   "outputs": [
    {
     "data": {
      "text/plain": [
       "array([[ 4,  4,  9],\n",
       "       [ 9, 12, 11]])"
      ]
     },
     "execution_count": 178,
     "metadata": {},
     "output_type": "execute_result"
    }
   ],
   "source": [
    "a +b"
   ]
  },
  {
   "cell_type": "code",
   "execution_count": 181,
   "id": "7ae966aa",
   "metadata": {},
   "outputs": [
    {
     "data": {
      "text/plain": [
       "array([[ 4,  4,  9],\n",
       "       [ 9, 12, 11]])"
      ]
     },
     "execution_count": 181,
     "metadata": {},
     "output_type": "execute_result"
    }
   ],
   "source": [
    "np.sum((a,b),axis=0)"
   ]
  },
  {
   "cell_type": "code",
   "execution_count": 182,
   "id": "0e6a4a3e",
   "metadata": {},
   "outputs": [
    {
     "data": {
      "text/plain": [
       "array([[ 7,  7,  7],\n",
       "       [ 6,  9, 13]])"
      ]
     },
     "execution_count": 182,
     "metadata": {},
     "output_type": "execute_result"
    }
   ],
   "source": [
    "np.sum((a,b),axis=1)"
   ]
  },
  {
   "cell_type": "code",
   "execution_count": 183,
   "id": "43c4b09d",
   "metadata": {},
   "outputs": [
    {
     "data": {
      "text/plain": [
       "array([[ 0,  2, -7],\n",
       "       [ 1, -4,  1]])"
      ]
     },
     "execution_count": 183,
     "metadata": {},
     "output_type": "execute_result"
    }
   ],
   "source": [
    "a-b"
   ]
  },
  {
   "cell_type": "code",
   "execution_count": 184,
   "id": "e1035a4a",
   "metadata": {},
   "outputs": [
    {
     "data": {
      "text/plain": [
       "array([[ 0,  2, -7],\n",
       "       [ 1, -4,  1]])"
      ]
     },
     "execution_count": 184,
     "metadata": {},
     "output_type": "execute_result"
    }
   ],
   "source": [
    "np.subtract(a,b)"
   ]
  },
  {
   "cell_type": "code",
   "execution_count": 185,
   "id": "35900fb5",
   "metadata": {},
   "outputs": [
    {
     "ename": "AttributeError",
     "evalue": "'numpy.ndarray' object has no attribute 'divide'",
     "output_type": "error",
     "traceback": [
      "\u001b[1;31m---------------------------------------------------------------------------\u001b[0m",
      "\u001b[1;31mAttributeError\u001b[0m                            Traceback (most recent call last)",
      "\u001b[1;32m<ipython-input-185-40c671b2658e>\u001b[0m in \u001b[0;36m<module>\u001b[1;34m\u001b[0m\n\u001b[1;32m----> 1\u001b[1;33m \u001b[0ma\u001b[0m\u001b[1;33m.\u001b[0m\u001b[0mdivide\u001b[0m\u001b[1;33m(\u001b[0m\u001b[0mb\u001b[0m\u001b[1;33m)\u001b[0m\u001b[1;33m\u001b[0m\u001b[1;33m\u001b[0m\u001b[0m\n\u001b[0m",
      "\u001b[1;31mAttributeError\u001b[0m: 'numpy.ndarray' object has no attribute 'divide'"
     ]
    }
   ],
   "source": [
    "a.divide(b)"
   ]
  },
  {
   "cell_type": "code",
   "execution_count": 186,
   "id": "9fbdae33",
   "metadata": {},
   "outputs": [
    {
     "data": {
      "text/plain": [
       "array([[2, 3, 1],\n",
       "       [5, 4, 6]])"
      ]
     },
     "execution_count": 186,
     "metadata": {},
     "output_type": "execute_result"
    }
   ],
   "source": [
    "a"
   ]
  },
  {
   "cell_type": "code",
   "execution_count": 187,
   "id": "00163eb7",
   "metadata": {},
   "outputs": [
    {
     "data": {
      "text/plain": [
       "array([[2, 1, 8],\n",
       "       [4, 8, 5]])"
      ]
     },
     "execution_count": 187,
     "metadata": {},
     "output_type": "execute_result"
    }
   ],
   "source": [
    "b"
   ]
  },
  {
   "cell_type": "code",
   "execution_count": 188,
   "id": "2a9775d9",
   "metadata": {},
   "outputs": [
    {
     "data": {
      "text/plain": [
       "array([[ 4,  4,  9],\n",
       "       [ 9, 12, 11]])"
      ]
     },
     "execution_count": 188,
     "metadata": {},
     "output_type": "execute_result"
    }
   ],
   "source": [
    "np.sum((a,b),axis=0)"
   ]
  },
  {
   "cell_type": "code",
   "execution_count": 189,
   "id": "91fa2729",
   "metadata": {},
   "outputs": [
    {
     "data": {
      "text/plain": [
       "array([[ 7,  7,  7],\n",
       "       [ 6,  9, 13]])"
      ]
     },
     "execution_count": 189,
     "metadata": {},
     "output_type": "execute_result"
    }
   ],
   "source": [
    "np.sum((a,b),axis=1)"
   ]
  },
  {
   "cell_type": "code",
   "execution_count": 190,
   "id": "75b7e46c",
   "metadata": {},
   "outputs": [
    {
     "data": {
      "text/plain": [
       "array([[2, 3, 1],\n",
       "       [5, 4, 6]])"
      ]
     },
     "execution_count": 190,
     "metadata": {},
     "output_type": "execute_result"
    }
   ],
   "source": [
    "a\n"
   ]
  },
  {
   "cell_type": "code",
   "execution_count": 191,
   "id": "86d5c822",
   "metadata": {},
   "outputs": [
    {
     "data": {
      "text/plain": [
       "array([[2, 1, 8],\n",
       "       [4, 8, 5]])"
      ]
     },
     "execution_count": 191,
     "metadata": {},
     "output_type": "execute_result"
    }
   ],
   "source": [
    "b"
   ]
  },
  {
   "cell_type": "code",
   "execution_count": 192,
   "id": "81143ea5",
   "metadata": {},
   "outputs": [
    {
     "data": {
      "text/plain": [
       "array([[1.41421356, 1.73205081, 1.        ],\n",
       "       [2.23606798, 2.        , 2.44948974]])"
      ]
     },
     "execution_count": 192,
     "metadata": {},
     "output_type": "execute_result"
    }
   ],
   "source": [
    "np.sqrt(a)"
   ]
  },
  {
   "cell_type": "code",
   "execution_count": 193,
   "id": "90450d73",
   "metadata": {},
   "outputs": [
    {
     "data": {
      "text/plain": [
       "5.0"
      ]
     },
     "execution_count": 193,
     "metadata": {},
     "output_type": "execute_result"
    }
   ],
   "source": [
    "np.sqrt(25)"
   ]
  },
  {
   "cell_type": "code",
   "execution_count": 195,
   "id": "ccaba50f",
   "metadata": {},
   "outputs": [
    {
     "data": {
      "text/plain": [
       "array([[  7.3890561 ,  20.08553692,   2.71828183],\n",
       "       [148.4131591 ,  54.59815003, 403.42879349]])"
      ]
     },
     "execution_count": 195,
     "metadata": {},
     "output_type": "execute_result"
    }
   ],
   "source": [
    "np.exp(a)"
   ]
  },
  {
   "cell_type": "code",
   "execution_count": 196,
   "id": "f4fc14f3",
   "metadata": {},
   "outputs": [
    {
     "data": {
      "text/plain": [
       "22026.465794806718"
      ]
     },
     "execution_count": 196,
     "metadata": {},
     "output_type": "execute_result"
    }
   ],
   "source": [
    "np.exp(10)"
   ]
  },
  {
   "cell_type": "code",
   "execution_count": 197,
   "id": "4541ffcb",
   "metadata": {},
   "outputs": [
    {
     "data": {
      "text/plain": [
       "1"
      ]
     },
     "execution_count": 197,
     "metadata": {},
     "output_type": "execute_result"
    }
   ],
   "source": [
    "np.min(a)"
   ]
  },
  {
   "cell_type": "code",
   "execution_count": 198,
   "id": "5b849251",
   "metadata": {},
   "outputs": [
    {
     "data": {
      "text/plain": [
       "array([[2, 3, 1],\n",
       "       [5, 4, 6]])"
      ]
     },
     "execution_count": 198,
     "metadata": {},
     "output_type": "execute_result"
    }
   ],
   "source": [
    "a"
   ]
  },
  {
   "cell_type": "code",
   "execution_count": 199,
   "id": "c4f457b8",
   "metadata": {},
   "outputs": [
    {
     "data": {
      "text/plain": [
       "array([2, 3, 1])"
      ]
     },
     "execution_count": 199,
     "metadata": {},
     "output_type": "execute_result"
    }
   ],
   "source": [
    "np.min(a,axis=0)"
   ]
  },
  {
   "cell_type": "code",
   "execution_count": 200,
   "id": "f3fdc03a",
   "metadata": {},
   "outputs": [
    {
     "data": {
      "text/plain": [
       "array([1, 4])"
      ]
     },
     "execution_count": 200,
     "metadata": {},
     "output_type": "execute_result"
    }
   ],
   "source": [
    "np.min(a,axis=1)"
   ]
  },
  {
   "cell_type": "code",
   "execution_count": 201,
   "id": "a53993a7",
   "metadata": {},
   "outputs": [
    {
     "data": {
      "text/plain": [
       "3.0"
      ]
     },
     "execution_count": 201,
     "metadata": {},
     "output_type": "execute_result"
    }
   ],
   "source": [
    "np.median(np.array([1,2,3,4,5]))"
   ]
  },
  {
   "cell_type": "code",
   "execution_count": 202,
   "id": "8aee46a2",
   "metadata": {},
   "outputs": [
    {
     "data": {
      "text/plain": [
       "3.0"
      ]
     },
     "execution_count": 202,
     "metadata": {},
     "output_type": "execute_result"
    }
   ],
   "source": [
    "np.mean(np.array([1,2,3,4,5]))"
   ]
  },
  {
   "cell_type": "code",
   "execution_count": 203,
   "id": "2ce3fc20",
   "metadata": {},
   "outputs": [
    {
     "data": {
      "text/plain": [
       "5"
      ]
     },
     "execution_count": 203,
     "metadata": {},
     "output_type": "execute_result"
    }
   ],
   "source": [
    "np.max(np.array([1,2,3,4,5]))"
   ]
  },
  {
   "cell_type": "code",
   "execution_count": 205,
   "id": "9d6841fb",
   "metadata": {},
   "outputs": [
    {
     "data": {
      "text/plain": [
       "3.0"
      ]
     },
     "execution_count": 205,
     "metadata": {},
     "output_type": "execute_result"
    }
   ],
   "source": [
    "np.percentile(np.array([1,2,3,4,5]),q=50)"
   ]
  },
  {
   "cell_type": "code",
   "execution_count": 206,
   "id": "8c1f0a72",
   "metadata": {},
   "outputs": [
    {
     "data": {
      "text/plain": [
       "1.4"
      ]
     },
     "execution_count": 206,
     "metadata": {},
     "output_type": "execute_result"
    }
   ],
   "source": [
    "np.percentile(np.array([1,2,3,4,5]),q=10)"
   ]
  },
  {
   "cell_type": "code",
   "execution_count": 207,
   "id": "52f8316b",
   "metadata": {},
   "outputs": [
    {
     "data": {
      "text/plain": [
       "5"
      ]
     },
     "execution_count": 207,
     "metadata": {},
     "output_type": "execute_result"
    }
   ],
   "source": [
    "np.quantile(np.array([1,2,3,4,5]),q=1)"
   ]
  },
  {
   "cell_type": "code",
   "execution_count": 210,
   "id": "1d47f3a6",
   "metadata": {},
   "outputs": [
    {
     "data": {
      "text/plain": [
       "1"
      ]
     },
     "execution_count": 210,
     "metadata": {},
     "output_type": "execute_result"
    }
   ],
   "source": [
    "\n",
    "np.quantile(np.array([1,2,3,4,5]),q=0)"
   ]
  },
  {
   "cell_type": "code",
   "execution_count": 211,
   "id": "befab133",
   "metadata": {},
   "outputs": [
    {
     "data": {
      "text/plain": [
       "array([[2, 3, 1],\n",
       "       [5, 4, 6]])"
      ]
     },
     "execution_count": 211,
     "metadata": {},
     "output_type": "execute_result"
    }
   ],
   "source": [
    "a"
   ]
  },
  {
   "cell_type": "code",
   "execution_count": 215,
   "id": "364760e8",
   "metadata": {},
   "outputs": [],
   "source": [
    "d=np.random.randint(1,100,(4,6))"
   ]
  },
  {
   "cell_type": "code",
   "execution_count": 216,
   "id": "145912f9",
   "metadata": {},
   "outputs": [
    {
     "data": {
      "text/plain": [
       "array([[14, 95, 46, 59, 26,  7],\n",
       "       [56, 94, 55, 65, 83, 26],\n",
       "       [79, 64, 56, 64, 54, 62],\n",
       "       [82, 84, 37,  8, 62, 34]])"
      ]
     },
     "execution_count": 216,
     "metadata": {},
     "output_type": "execute_result"
    }
   ],
   "source": [
    "d"
   ]
  },
  {
   "cell_type": "code",
   "execution_count": 217,
   "id": "2e9327f6",
   "metadata": {},
   "outputs": [
    {
     "data": {
      "text/plain": [
       "array([79, 64, 56, 64, 54, 62])"
      ]
     },
     "execution_count": 217,
     "metadata": {},
     "output_type": "execute_result"
    }
   ],
   "source": [
    "d[2]"
   ]
  },
  {
   "cell_type": "code",
   "execution_count": 218,
   "id": "0980d810",
   "metadata": {},
   "outputs": [
    {
     "data": {
      "text/plain": [
       "array([[14, 95, 46, 59, 26,  7],\n",
       "       [56, 94, 55, 65, 83, 26]])"
      ]
     },
     "execution_count": 218,
     "metadata": {},
     "output_type": "execute_result"
    }
   ],
   "source": [
    "d[:2]"
   ]
  },
  {
   "cell_type": "code",
   "execution_count": 219,
   "id": "0b924518",
   "metadata": {},
   "outputs": [
    {
     "data": {
      "text/plain": [
       "array([[79, 64, 56, 64, 54, 62],\n",
       "       [82, 84, 37,  8, 62, 34]])"
      ]
     },
     "execution_count": 219,
     "metadata": {},
     "output_type": "execute_result"
    }
   ],
   "source": [
    "d[2:]"
   ]
  },
  {
   "cell_type": "code",
   "execution_count": 220,
   "id": "71127997",
   "metadata": {},
   "outputs": [
    {
     "data": {
      "text/plain": [
       "array([[14, 95, 46, 59, 26,  7],\n",
       "       [56, 94, 55, 65, 83, 26],\n",
       "       [79, 64, 56, 64, 54, 62],\n",
       "       [82, 84, 37,  8, 62, 34]])"
      ]
     },
     "execution_count": 220,
     "metadata": {},
     "output_type": "execute_result"
    }
   ],
   "source": [
    "d"
   ]
  },
  {
   "cell_type": "code",
   "execution_count": 241,
   "id": "9067bd8c",
   "metadata": {},
   "outputs": [
    {
     "data": {
      "text/plain": [
       "array([[56, 64, 54, 62],\n",
       "       [37,  8, 62, 34]])"
      ]
     },
     "execution_count": 241,
     "metadata": {},
     "output_type": "execute_result"
    }
   ],
   "source": [
    "d[2:,2:]"
   ]
  },
  {
   "cell_type": "code",
   "execution_count": 235,
   "id": "ce882cad",
   "metadata": {},
   "outputs": [
    {
     "data": {
      "text/plain": [
       "array([[94, 55],\n",
       "       [64, 56]])"
      ]
     },
     "execution_count": 235,
     "metadata": {},
     "output_type": "execute_result"
    }
   ],
   "source": [
    "d[[1,2],1:3]"
   ]
  },
  {
   "cell_type": "code",
   "execution_count": null,
   "id": "171fa237",
   "metadata": {},
   "outputs": [],
   "source": []
  },
  {
   "cell_type": "code",
   "execution_count": 221,
   "id": "cf84e082",
   "metadata": {},
   "outputs": [
    {
     "data": {
      "text/plain": [
       "95"
      ]
     },
     "execution_count": 221,
     "metadata": {},
     "output_type": "execute_result"
    }
   ],
   "source": [
    "d[0,1]"
   ]
  },
  {
   "cell_type": "code",
   "execution_count": 222,
   "id": "c62171f0",
   "metadata": {},
   "outputs": [
    {
     "data": {
      "text/plain": [
       "array([95, 94])"
      ]
     },
     "execution_count": 222,
     "metadata": {},
     "output_type": "execute_result"
    }
   ],
   "source": [
    "d[:2,1]"
   ]
  },
  {
   "cell_type": "code",
   "execution_count": 223,
   "id": "9657c759",
   "metadata": {},
   "outputs": [
    {
     "data": {
      "text/plain": [
       "array([[95, 46, 59, 26,  7],\n",
       "       [94, 55, 65, 83, 26]])"
      ]
     },
     "execution_count": 223,
     "metadata": {},
     "output_type": "execute_result"
    }
   ],
   "source": [
    "d[:2,1:]"
   ]
  },
  {
   "cell_type": "code",
   "execution_count": 242,
   "id": "58ff0c43",
   "metadata": {},
   "outputs": [
    {
     "data": {
      "text/plain": [
       "array([[2, 3, 1],\n",
       "       [5, 4, 6]])"
      ]
     },
     "execution_count": 242,
     "metadata": {},
     "output_type": "execute_result"
    }
   ],
   "source": [
    "a"
   ]
  },
  {
   "cell_type": "code",
   "execution_count": 243,
   "id": "9e9fccfe",
   "metadata": {},
   "outputs": [
    {
     "data": {
      "text/plain": [
       "array([[2, 1, 8],\n",
       "       [4, 8, 5]])"
      ]
     },
     "execution_count": 243,
     "metadata": {},
     "output_type": "execute_result"
    }
   ],
   "source": [
    "b"
   ]
  },
  {
   "cell_type": "code",
   "execution_count": 244,
   "id": "6862a604",
   "metadata": {},
   "outputs": [
    {
     "data": {
      "text/plain": [
       "array([[2, 3, 1],\n",
       "       [5, 4, 6],\n",
       "       [2, 1, 8],\n",
       "       [4, 8, 5]])"
      ]
     },
     "execution_count": 244,
     "metadata": {},
     "output_type": "execute_result"
    }
   ],
   "source": [
    "np.concatenate((a,b))"
   ]
  },
  {
   "cell_type": "code",
   "execution_count": 245,
   "id": "ecbcb291",
   "metadata": {},
   "outputs": [
    {
     "data": {
      "text/plain": [
       "array([[2, 3, 1, 2, 1, 8],\n",
       "       [5, 4, 6, 4, 8, 5]])"
      ]
     },
     "execution_count": 245,
     "metadata": {},
     "output_type": "execute_result"
    }
   ],
   "source": [
    "np.concatenate((a,b),axis=1)"
   ]
  },
  {
   "cell_type": "code",
   "execution_count": 246,
   "id": "e9d85624",
   "metadata": {},
   "outputs": [
    {
     "data": {
      "text/plain": [
       "array([[2, 3, 1],\n",
       "       [5, 4, 6],\n",
       "       [2, 1, 8],\n",
       "       [4, 8, 5]])"
      ]
     },
     "execution_count": 246,
     "metadata": {},
     "output_type": "execute_result"
    }
   ],
   "source": [
    "np.concatenate((a,b),axis=0)"
   ]
  },
  {
   "cell_type": "code",
   "execution_count": 247,
   "id": "2308ab89",
   "metadata": {},
   "outputs": [
    {
     "data": {
      "text/plain": [
       "array([[2, 3, 1, 2, 1, 8],\n",
       "       [5, 4, 6, 4, 8, 5]])"
      ]
     },
     "execution_count": 247,
     "metadata": {},
     "output_type": "execute_result"
    }
   ],
   "source": [
    "np.hstack((a,b))"
   ]
  },
  {
   "cell_type": "code",
   "execution_count": 248,
   "id": "4c2f4279",
   "metadata": {},
   "outputs": [
    {
     "data": {
      "text/plain": [
       "array([[2, 3, 1],\n",
       "       [5, 4, 6],\n",
       "       [2, 1, 8],\n",
       "       [4, 8, 5]])"
      ]
     },
     "execution_count": 248,
     "metadata": {},
     "output_type": "execute_result"
    }
   ],
   "source": [
    "np.vstack((a,b))"
   ]
  },
  {
   "cell_type": "code",
   "execution_count": 249,
   "id": "35497346",
   "metadata": {},
   "outputs": [
    {
     "data": {
      "text/plain": [
       "array([[2, 3, 1, 2, 1, 8],\n",
       "       [5, 4, 6, 4, 8, 5]])"
      ]
     },
     "execution_count": 249,
     "metadata": {},
     "output_type": "execute_result"
    }
   ],
   "source": [
    "np.column_stack((a,b))"
   ]
  },
  {
   "cell_type": "code",
   "execution_count": 250,
   "id": "e909a2e3",
   "metadata": {},
   "outputs": [],
   "source": [
    "c=np.random.randint(1,100,(3,3))"
   ]
  },
  {
   "cell_type": "code",
   "execution_count": 251,
   "id": "ab90ff91",
   "metadata": {},
   "outputs": [
    {
     "data": {
      "text/plain": [
       "array([[19, 74, 78],\n",
       "       [72, 19, 85],\n",
       "       [60,  4, 42]])"
      ]
     },
     "execution_count": 251,
     "metadata": {},
     "output_type": "execute_result"
    }
   ],
   "source": [
    "c"
   ]
  },
  {
   "cell_type": "code",
   "execution_count": 252,
   "id": "99e25407",
   "metadata": {},
   "outputs": [
    {
     "data": {
      "text/plain": [
       "array([[2, 3, 1],\n",
       "       [5, 4, 6]])"
      ]
     },
     "execution_count": 252,
     "metadata": {},
     "output_type": "execute_result"
    }
   ],
   "source": [
    "a"
   ]
  },
  {
   "cell_type": "code",
   "execution_count": 255,
   "id": "b84e9439",
   "metadata": {},
   "outputs": [
    {
     "data": {
      "text/plain": [
       "array([[ 2,  3,  1],\n",
       "       [ 5,  4,  6],\n",
       "       [19, 74, 78],\n",
       "       [72, 19, 85],\n",
       "       [60,  4, 42]])"
      ]
     },
     "execution_count": 255,
     "metadata": {},
     "output_type": "execute_result"
    }
   ],
   "source": [
    "np.vstack((a,c))"
   ]
  },
  {
   "cell_type": "code",
   "execution_count": 254,
   "id": "e36a1cd0",
   "metadata": {},
   "outputs": [
    {
     "ename": "ValueError",
     "evalue": "all the input array dimensions for the concatenation axis must match exactly, but along dimension 0, the array at index 0 has size 2 and the array at index 1 has size 3",
     "output_type": "error",
     "traceback": [
      "\u001b[1;31m---------------------------------------------------------------------------\u001b[0m",
      "\u001b[1;31mValueError\u001b[0m                                Traceback (most recent call last)",
      "\u001b[1;32m<ipython-input-254-8b9936bb800b>\u001b[0m in \u001b[0;36m<module>\u001b[1;34m\u001b[0m\n\u001b[1;32m----> 1\u001b[1;33m \u001b[0mnp\u001b[0m\u001b[1;33m.\u001b[0m\u001b[0mhstack\u001b[0m\u001b[1;33m(\u001b[0m\u001b[1;33m(\u001b[0m\u001b[0ma\u001b[0m\u001b[1;33m,\u001b[0m\u001b[0mc\u001b[0m\u001b[1;33m)\u001b[0m\u001b[1;33m)\u001b[0m\u001b[1;33m\u001b[0m\u001b[1;33m\u001b[0m\u001b[0m\n\u001b[0m",
      "\u001b[1;32m<__array_function__ internals>\u001b[0m in \u001b[0;36mhstack\u001b[1;34m(*args, **kwargs)\u001b[0m\n",
      "\u001b[1;32m~\\anaconda3\\lib\\site-packages\\numpy\\core\\shape_base.py\u001b[0m in \u001b[0;36mhstack\u001b[1;34m(tup)\u001b[0m\n\u001b[0;32m    344\u001b[0m         \u001b[1;32mreturn\u001b[0m \u001b[0m_nx\u001b[0m\u001b[1;33m.\u001b[0m\u001b[0mconcatenate\u001b[0m\u001b[1;33m(\u001b[0m\u001b[0marrs\u001b[0m\u001b[1;33m,\u001b[0m \u001b[1;36m0\u001b[0m\u001b[1;33m)\u001b[0m\u001b[1;33m\u001b[0m\u001b[1;33m\u001b[0m\u001b[0m\n\u001b[0;32m    345\u001b[0m     \u001b[1;32melse\u001b[0m\u001b[1;33m:\u001b[0m\u001b[1;33m\u001b[0m\u001b[1;33m\u001b[0m\u001b[0m\n\u001b[1;32m--> 346\u001b[1;33m         \u001b[1;32mreturn\u001b[0m \u001b[0m_nx\u001b[0m\u001b[1;33m.\u001b[0m\u001b[0mconcatenate\u001b[0m\u001b[1;33m(\u001b[0m\u001b[0marrs\u001b[0m\u001b[1;33m,\u001b[0m \u001b[1;36m1\u001b[0m\u001b[1;33m)\u001b[0m\u001b[1;33m\u001b[0m\u001b[1;33m\u001b[0m\u001b[0m\n\u001b[0m\u001b[0;32m    347\u001b[0m \u001b[1;33m\u001b[0m\u001b[0m\n\u001b[0;32m    348\u001b[0m \u001b[1;33m\u001b[0m\u001b[0m\n",
      "\u001b[1;32m<__array_function__ internals>\u001b[0m in \u001b[0;36mconcatenate\u001b[1;34m(*args, **kwargs)\u001b[0m\n",
      "\u001b[1;31mValueError\u001b[0m: all the input array dimensions for the concatenation axis must match exactly, but along dimension 0, the array at index 0 has size 2 and the array at index 1 has size 3"
     ]
    }
   ],
   "source": [
    "np.hstack((a,c))"
   ]
  },
  {
   "cell_type": "code",
   "execution_count": 256,
   "id": "a47ad2d7",
   "metadata": {},
   "outputs": [],
   "source": [
    "a=10"
   ]
  },
  {
   "cell_type": "code",
   "execution_count": 258,
   "id": "8f66a77b",
   "metadata": {},
   "outputs": [
    {
     "name": "stdout",
     "output_type": "stream",
     "text": [
      "You\n"
     ]
    }
   ],
   "source": [
    "print(\"hey\" if a >10 else \"You\")"
   ]
  },
  {
   "cell_type": "code",
   "execution_count": null,
   "id": "c32bf927",
   "metadata": {},
   "outputs": [],
   "source": []
  }
 ],
 "metadata": {
  "kernelspec": {
   "display_name": "Python 3",
   "language": "python",
   "name": "python3"
  },
  "language_info": {
   "codemirror_mode": {
    "name": "ipython",
    "version": 3
   },
   "file_extension": ".py",
   "mimetype": "text/x-python",
   "name": "python",
   "nbconvert_exporter": "python",
   "pygments_lexer": "ipython3",
   "version": "3.8.8"
  }
 },
 "nbformat": 4,
 "nbformat_minor": 5
}
