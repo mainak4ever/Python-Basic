{
 "cells": [
  {
   "cell_type": "code",
   "execution_count": 4,
   "id": "bbdfb8a0",
   "metadata": {},
   "outputs": [
    {
     "name": "stdout",
     "output_type": "stream",
     "text": [
      "162.8894626777442\n"
     ]
    }
   ],
   "source": [
    "#1 calculator \n",
    "\n",
    "n=10\n",
    "r=5\n",
    "p=100\n",
    "\n",
    "A=p*(1+r/100)**(n)\n",
    "\n",
    "print(A)"
   ]
  },
  {
   "cell_type": "code",
   "execution_count": 3,
   "id": "1bcd17b9",
   "metadata": {},
   "outputs": [
    {
     "name": "stdout",
     "output_type": "stream",
     "text": [
      "There are 20 students in the class, with 10 who play at least one sport.\n"
     ]
    }
   ],
   "source": [
    "#2\n",
    "A = 10\n",
    "B = 20\n",
    "Str = \"There are {} students in the class, with {} who play at least one sport.\"\n",
    "print(Str.format(B,A))"
   ]
  },
  {
   "cell_type": "code",
   "execution_count": 6,
   "id": "3abfc248",
   "metadata": {},
   "outputs": [
    {
     "name": "stdout",
     "output_type": "stream",
     "text": [
      "It goes without saying, \"Time is Money\", and none can deny it.\n"
     ]
    }
   ],
   "source": [
    "#3\n",
    "print(\"It goes without saying, \\\"Time is Money\\\", and none can deny it.\")"
   ]
  },
  {
   "cell_type": "code",
   "execution_count": 8,
   "id": "ea0ad93c",
   "metadata": {},
   "outputs": [
    {
     "data": {
      "text/plain": [
       "3"
      ]
     },
     "execution_count": 8,
     "metadata": {},
     "output_type": "execute_result"
    }
   ],
   "source": [
    "#4\n",
    "x = lambda a,b: a//b\n",
    "x(10,3)"
   ]
  },
  {
   "cell_type": "code",
   "execution_count": 10,
   "id": "2b937170",
   "metadata": {},
   "outputs": [
    {
     "name": "stdout",
     "output_type": "stream",
     "text": [
      "Greater\n"
     ]
    }
   ],
   "source": [
    "#5 \n",
    "\n",
    "A = 10\n",
    "B = 12\n",
    "print(\"Smaller\") if A == B else print(\"Greater\") if A < B else print(\"True\")"
   ]
  },
  {
   "cell_type": "code",
   "execution_count": 11,
   "id": "85fd54e6",
   "metadata": {},
   "outputs": [
    {
     "name": "stdout",
     "output_type": "stream",
     "text": [
      "[2, 7, 3, 5, 4, 6]\n"
     ]
    },
    {
     "ename": "NameError",
     "evalue": "name 'numpy' is not defined",
     "output_type": "error",
     "traceback": [
      "\u001b[1;31m---------------------------------------------------------------------------\u001b[0m",
      "\u001b[1;31mNameError\u001b[0m                                 Traceback (most recent call last)",
      "Input \u001b[1;32mIn [11]\u001b[0m, in \u001b[0;36m<cell line: 5>\u001b[1;34m()\u001b[0m\n\u001b[0;32m      3\u001b[0m my_list1\u001b[38;5;241m=\u001b[39m[\u001b[38;5;241m2\u001b[39m,\u001b[38;5;241m7\u001b[39m,\u001b[38;5;241m3\u001b[39m,\u001b[38;5;241m5\u001b[39m,\u001b[38;5;241m4\u001b[39m,\u001b[38;5;241m6\u001b[39m]\n\u001b[0;32m      4\u001b[0m \u001b[38;5;28mprint\u001b[39m(my_list1)\n\u001b[1;32m----> 5\u001b[0m arr_1 \u001b[38;5;241m=\u001b[39m \u001b[43mnumpy\u001b[49m\u001b[38;5;241m.\u001b[39marray(my_list1, dtype \u001b[38;5;241m=\u001b[39m \u001b[38;5;28mint\u001b[39m)\n\u001b[0;32m      6\u001b[0m \u001b[38;5;28mprint\u001b[39m(arr_1)\n",
      "\u001b[1;31mNameError\u001b[0m: name 'numpy' is not defined"
     ]
    }
   ],
   "source": [
    "import os \n",
    "import numpy as np\n",
    "my_list1=[2,7,3,5,4,6]\n",
    "print(my_list1)\n",
    "arr_1 = numpy.array(my_list1, dtype = int)\n",
    "print(arr_1)"
   ]
  },
  {
   "cell_type": "code",
   "execution_count": 17,
   "id": "a62ba73e",
   "metadata": {},
   "outputs": [
    {
     "data": {
      "text/plain": [
       "'Learn'"
      ]
     },
     "execution_count": 17,
     "metadata": {},
     "output_type": "execute_result"
    }
   ],
   "source": [
    "string=\"Machine Learning\"\n",
    "string[slice(8,13,1)]"
   ]
  },
  {
   "cell_type": "code",
   "execution_count": 18,
   "id": "f6ea9e15",
   "metadata": {},
   "outputs": [
    {
     "name": "stdout",
     "output_type": "stream",
     "text": [
      "2\n"
     ]
    }
   ],
   "source": [
    "l=[]\n",
    "for i in range(10,25,4):\n",
    "    l.append(i)\n",
    "\n",
    "print(l.index(18))"
   ]
  },
  {
   "cell_type": "code",
   "execution_count": 19,
   "id": "4d43d960",
   "metadata": {},
   "outputs": [
    {
     "name": "stdout",
     "output_type": "stream",
     "text": [
      "625 625\n"
     ]
    }
   ],
   "source": [
    "num1=5**4\n",
    "num2=pow(5,4)\n",
    "print(num1,num2)\n"
   ]
  },
  {
   "cell_type": "code",
   "execution_count": 20,
   "id": "29c06758",
   "metadata": {},
   "outputs": [
    {
     "ename": "ValueError",
     "evalue": "invalid literal for int() with base 10: 'string'",
     "output_type": "error",
     "traceback": [
      "\u001b[1;31m---------------------------------------------------------------------------\u001b[0m",
      "\u001b[1;31mValueError\u001b[0m                                Traceback (most recent call last)",
      "Input \u001b[1;32mIn [20]\u001b[0m, in \u001b[0;36m<cell line: 2>\u001b[1;34m()\u001b[0m\n\u001b[0;32m      1\u001b[0m x\u001b[38;5;241m=\u001b[39m\u001b[38;5;124m\"\u001b[39m\u001b[38;5;124mstring\u001b[39m\u001b[38;5;124m\"\u001b[39m\n\u001b[1;32m----> 2\u001b[0m \u001b[38;5;28;43mint\u001b[39;49m\u001b[43m(\u001b[49m\u001b[43mx\u001b[49m\u001b[43m)\u001b[49m\n",
      "\u001b[1;31mValueError\u001b[0m: invalid literal for int() with base 10: 'string'"
     ]
    }
   ],
   "source": [
    "x=\"string\"\n",
    "int(x)"
   ]
  },
  {
   "cell_type": "code",
   "execution_count": 22,
   "id": "8b17e589",
   "metadata": {},
   "outputs": [
    {
     "name": "stdout",
     "output_type": "stream",
     "text": [
      "<class 'str'>\n"
     ]
    }
   ],
   "source": [
    "z=\"ID-5632\"\n",
    "print(type(z))"
   ]
  },
  {
   "cell_type": "code",
   "execution_count": 29,
   "id": "c0f5a4b5",
   "metadata": {},
   "outputs": [
    {
     "name": "stdout",
     "output_type": "stream",
     "text": [
      "{'India': 'Delhi', 'China': 'Beijing', 'Japan': 'Tokyo', 'Qatar': 'Doha', 'France': 'Paris'}\n"
     ]
    }
   ],
   "source": [
    "Country={\"India\":\"Delhi\", \"China\":\"Beijing\", \"Japan\": \"Tokyo\", \"Qatar\":\"Doha\", \"France\":\"Marseilles\"}\n",
    "Country.update({\"France\":\"Paris\"})\n",
    "Country[\"France\"]=\"Paris\"\n",
    "print(Country)"
   ]
  },
  {
   "cell_type": "code",
   "execution_count": 32,
   "id": "e323c009",
   "metadata": {},
   "outputs": [
    {
     "ename": "TypeError",
     "evalue": "'tuple' object does not support item assignment",
     "output_type": "error",
     "traceback": [
      "\u001b[1;31m---------------------------------------------------------------------------\u001b[0m",
      "\u001b[1;31mTypeError\u001b[0m                                 Traceback (most recent call last)",
      "Input \u001b[1;32mIn [32]\u001b[0m, in \u001b[0;36m<cell line: 6>\u001b[1;34m()\u001b[0m\n\u001b[0;32m      4\u001b[0m \u001b[38;5;28mlen\u001b[39m(tuple_2)\n\u001b[0;32m      5\u001b[0m tuple_2 \u001b[38;5;241m+\u001b[39m tuple_1\n\u001b[1;32m----> 6\u001b[0m tuple_1[\u001b[38;5;241m3\u001b[39m] \u001b[38;5;241m=\u001b[39m \u001b[38;5;241m45\u001b[39m\n",
      "\u001b[1;31mTypeError\u001b[0m: 'tuple' object does not support item assignment"
     ]
    }
   ],
   "source": [
    "tuple_1 = (1,5,6,7,8)\n",
    "tuple_2 = (8,9,4)\n",
    "sum(tuple_1)\n",
    "len(tuple_2)\n",
    "tuple_2 + tuple_1\n",
    "tuple_1[3] = 45"
   ]
  },
  {
   "cell_type": "code",
   "execution_count": 33,
   "id": "1bd36f6d",
   "metadata": {},
   "outputs": [
    {
     "data": {
      "text/plain": [
       "6"
      ]
     },
     "execution_count": 33,
     "metadata": {},
     "output_type": "execute_result"
    }
   ],
   "source": [
    "S={1,2,3,4,4,4,5,6}\n",
    "len(S)"
   ]
  },
  {
   "cell_type": "code",
   "execution_count": 43,
   "id": "5aa2d412",
   "metadata": {},
   "outputs": [
    {
     "name": "stdout",
     "output_type": "stream",
     "text": [
      "Enter a limit: 20\n",
      "3 4 5\n",
      "5 12 13\n",
      "6 8 10\n",
      "8 15 17\n",
      "9 12 15\n",
      "12 16 20\n",
      "None\n"
     ]
    }
   ],
   "source": [
    "#19\n",
    "def pythagorean_triplets(N):\n",
    "    for a in range(1,N-1):\n",
    "        for b in range(a+1,N):\n",
    "             for c in range(b+1,N+1):\n",
    "                    a2=a**2\n",
    "                    b2=b**2\n",
    "                    c2=c**2\n",
    "                    if (a2+b2==c2):\n",
    "                        print(a,b,c)\n",
    "                        \n",
    "N=int(input(\"Enter a limit: \")) \n",
    "\n",
    "print(pythagorean_triplets(N))"
   ]
  },
  {
   "cell_type": "code",
   "execution_count": null,
   "id": "45bf2be4",
   "metadata": {},
   "outputs": [],
   "source": []
  },
  {
   "cell_type": "code",
   "execution_count": null,
   "id": "3602dca2",
   "metadata": {},
   "outputs": [],
   "source": []
  },
  {
   "cell_type": "code",
   "execution_count": null,
   "id": "fe27c84d",
   "metadata": {},
   "outputs": [],
   "source": []
  }
 ],
 "metadata": {
  "kernelspec": {
   "display_name": "Python 3 (ipykernel)",
   "language": "python",
   "name": "python3"
  },
  "language_info": {
   "codemirror_mode": {
    "name": "ipython",
    "version": 3
   },
   "file_extension": ".py",
   "mimetype": "text/x-python",
   "name": "python",
   "nbconvert_exporter": "python",
   "pygments_lexer": "ipython3",
   "version": "3.9.12"
  }
 },
 "nbformat": 4,
 "nbformat_minor": 5
}
